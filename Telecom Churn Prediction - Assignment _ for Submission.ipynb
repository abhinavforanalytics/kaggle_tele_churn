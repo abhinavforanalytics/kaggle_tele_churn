{
 "cells": [
  {
   "cell_type": "markdown",
   "id": "c4f6e1ad",
   "metadata": {},
   "source": [
    "# Problem Statement\n",
    "\n",
    "### Business problem overview\n",
    "\n",
    "1. In the telecom industry, customers have many options to choose from and can easily switch from one provider to another. This competitive market has led to an average annual churn rate of 15-25% for the telecommunications industry. Since it costs 5-10 times more to acquire a new customer than to retain an existing one, customer retention has become more important than customer acquisition.\n",
    "\n",
    "2. For many incumbent operators, retaining high-profitable customers is the top business goal.\n",
    "\n",
    "3. To reduce customer churn, telecom companies need to predict which customers are at high risk of churn.\n",
    "\n",
    "In this project, we will analyze customer-level data from a leading telecom firm to build predictive models to identify customers at high risk of churn and to identify the main indicators of churn."
   ]
  },
  {
   "cell_type": "markdown",
   "id": "3ae2d185",
   "metadata": {},
   "source": [
    "# Objective\n",
    "- To Predict the customers who are about to churn from a telecom operator\n",
    "- We need to predict Churn on the basis of Action Period (Churn period data needs to be deleted after labelling)\n",
    "  Churn would be based on Usage"
   ]
  },
  {
   "cell_type": "markdown",
   "id": "26470eeb",
   "metadata": {},
   "source": [
    "# Key Steps Undertaken\n",
    "#### Loading Libs :\n",
    "- Loading necessary libraries\n",
    " - Data Processing.\n",
    " - Visualization.\n",
    " - Model Building.\n",
    " - Warnings Handling.\n",
    "\n",
    "#### Data view at a glance :\n",
    "- Data loading.\n",
    "- Data dictionary.\n",
    "\n",
    "\n",
    "#### Feature Engineering :\n",
    "- Aggregating data by row to form new columns.\n",
    "- Splitting data at 80/20.\n",
    "\n",
    "#### Treating Missing Values :\n",
    "- Visalizing missing values.\n",
    "- Replacing missing values with simple constant imputation.\n",
    "   \n",
    "#### Exploratory Data Analysis & Handling Outliers:\n",
    "- Perform Univarite analysis.\n",
    "- Treating outliers detected under Univariate Analysis.\n",
    "- Perform Bi-variate Analysis and Discover correlations.\n",
    " \n",
    "#### Deducing Feature Importance :\n",
    "- Using RandomForest deduce feature importance.\n",
    "- Dimensionality Reduction using PCA.\n",
    "- Visualize elements in lower dimension.\n",
    "\n",
    "#### Model Building & Evaluation :\n",
    "- Picking Logistic Regression for model building.\n",
    "- Creating Pipeline for step to model building.\n",
    "- Building the model.\n",
    "- Model Evaluation"
   ]
  },
  {
   "cell_type": "markdown",
   "id": "7d96a428",
   "metadata": {},
   "source": [
    "## <font color= green> Notebook Walkthrough (Hyperlinked):\n",
    "[Loading Libraries](#libs)\n",
    "#### 1. [Data view at a glance.](#data_view)\n",
    "#### 2. [Feature Engineering.](#feature_engg)\n",
    "#### 3. [Treating Missing Values.](#miss_val)\n",
    "#### 4. [Exploratory Data Analysis & Handling Outliers.](#eda)\n",
    "#### 5. [Deducing Feature Importance.](#feature_imp)\n",
    "#### 6. [Model Building & Evaluation.](#model_build)"
   ]
  },
  {
   "cell_type": "markdown",
   "id": "23616a21",
   "metadata": {
    "papermill": {
     "duration": 0.053823,
     "end_time": "2022-05-09T15:05:53.687553",
     "exception": false,
     "start_time": "2022-05-09T15:05:53.633730",
     "status": "completed"
    },
    "tags": []
   },
   "source": [
    "# Loading Libraries <a id='libs'></a>"
   ]
  },
  {
   "cell_type": "code",
   "execution_count": 1,
   "id": "44f29f1b",
   "metadata": {
    "execution": {
     "iopub.execute_input": "2022-05-09T15:05:53.790023Z",
     "iopub.status.busy": "2022-05-09T15:05:53.789294Z",
     "iopub.status.idle": "2022-05-09T15:05:55.285682Z",
     "shell.execute_reply": "2022-05-09T15:05:55.285062Z"
    },
    "papermill": {
     "duration": 1.551532,
     "end_time": "2022-05-09T15:05:55.287960",
     "exception": false,
     "start_time": "2022-05-09T15:05:53.736428",
     "status": "completed"
    },
    "tags": []
   },
   "outputs": [],
   "source": [
    "#Data Handling\n",
    "import pandas as pd\n",
    "import numpy as np\n",
    "import re\n",
    "import os\n",
    "\n",
    "#Visualization\n",
    "import matplotlib.pyplot as plt\n",
    "from mpl_toolkits.mplot3d import Axes3D\n",
    "import seaborn as sns\n",
    "\n",
    "#Model Building\n",
    "from sklearn.impute import SimpleImputer\n",
    "from sklearn.preprocessing import StandardScaler\n",
    "from sklearn.model_selection import train_test_split\n",
    "from sklearn.ensemble import RandomForestClassifier\n",
    "from sklearn.decomposition import PCA\n",
    "from sklearn.manifold import TSNE\n",
    "from sklearn.linear_model import LogisticRegression\n",
    "from sklearn.pipeline import Pipeline\n",
    "from sklearn.model_selection import GridSearchCV\n",
    "from sklearn.metrics import confusion_matrix, precision_score, recall_score\n",
    "\n",
    "\n",
    "#Handling Warnings (commonly found in deprecated libs)\n",
    "import warnings\n",
    "warnings.filterwarnings('ignore')\n",
    "\n",
    "%matplotlib inline"
   ]
  },
  {
   "cell_type": "code",
   "execution_count": 2,
   "id": "832e741f",
   "metadata": {
    "execution": {
     "iopub.execute_input": "2022-05-09T15:05:55.607953Z",
     "iopub.status.busy": "2022-05-09T15:05:55.607457Z",
     "iopub.status.idle": "2022-05-09T15:05:58.217050Z",
     "shell.execute_reply": "2022-05-09T15:05:58.215663Z"
    },
    "papermill": {
     "duration": 2.665353,
     "end_time": "2022-05-09T15:05:58.220083",
     "exception": false,
     "start_time": "2022-05-09T15:05:55.554730",
     "status": "completed"
    },
    "tags": []
   },
   "outputs": [
    {
     "name": "stdout",
     "output_type": "stream",
     "text": [
      "(69999, 172)\n",
      "(30000, 171)\n",
      "(30000, 2)\n",
      "(36, 2)\n"
     ]
    }
   ],
   "source": [
    "data = pd.read_csv(\"./telecom-churn-case-study-hackathon-cc50/train.csv\")\n",
    "unseen = pd.read_csv(\"./telecom-churn-case-study-hackathon-cc50/test.csv\")\n",
    "sample = pd.read_csv(\"./telecom-churn-case-study-hackathon-cc50/sample.csv\")\n",
    "data_dict = pd.read_csv(\"./telecom-churn-case-study-hackathon-cc50/data_dictionary.csv\")\n",
    "\n",
    "print(data.shape)\n",
    "print(unseen.shape)\n",
    "print(sample.shape)\n",
    "print(data_dict.shape)"
   ]
  },
  {
   "cell_type": "markdown",
   "id": "01491eae",
   "metadata": {
    "papermill": {
     "duration": 0.053823,
     "end_time": "2022-05-09T15:05:53.687553",
     "exception": false,
     "start_time": "2022-05-09T15:05:53.633730",
     "status": "completed"
    },
    "tags": []
   },
   "source": [
    "# 1. Data view at a glance <a id='data_view'></a>"
   ]
  },
  {
   "cell_type": "code",
   "execution_count": 3,
   "id": "1d18ea2b",
   "metadata": {
    "execution": {
     "iopub.execute_input": "2022-05-09T15:05:58.425869Z",
     "iopub.status.busy": "2022-05-09T15:05:58.425603Z",
     "iopub.status.idle": "2022-05-09T15:05:58.443455Z",
     "shell.execute_reply": "2022-05-09T15:05:58.442497Z"
    },
    "papermill": {
     "duration": 0.072563,
     "end_time": "2022-05-09T15:05:58.446094",
     "exception": false,
     "start_time": "2022-05-09T15:05:58.373531",
     "status": "completed"
    },
    "tags": []
   },
   "outputs": [
    {
     "data": {
      "text/html": [
       "<div>\n",
       "<style scoped>\n",
       "    .dataframe tbody tr th:only-of-type {\n",
       "        vertical-align: middle;\n",
       "    }\n",
       "\n",
       "    .dataframe tbody tr th {\n",
       "        vertical-align: top;\n",
       "    }\n",
       "\n",
       "    .dataframe thead th {\n",
       "        text-align: right;\n",
       "    }\n",
       "</style>\n",
       "<table border=\"1\" class=\"dataframe\">\n",
       "  <thead>\n",
       "    <tr style=\"text-align: right;\">\n",
       "      <th></th>\n",
       "      <th>Acronyms</th>\n",
       "      <th>Description</th>\n",
       "    </tr>\n",
       "  </thead>\n",
       "  <tbody>\n",
       "    <tr>\n",
       "      <th>0</th>\n",
       "      <td>CIRCLE_ID</td>\n",
       "      <td>Telecom circle area to which the customer belo...</td>\n",
       "    </tr>\n",
       "    <tr>\n",
       "      <th>1</th>\n",
       "      <td>LOC</td>\n",
       "      <td>Local calls  within same telecom circle</td>\n",
       "    </tr>\n",
       "    <tr>\n",
       "      <th>2</th>\n",
       "      <td>STD</td>\n",
       "      <td>STD calls  outside the calling circle</td>\n",
       "    </tr>\n",
       "    <tr>\n",
       "      <th>3</th>\n",
       "      <td>IC</td>\n",
       "      <td>Incoming calls</td>\n",
       "    </tr>\n",
       "    <tr>\n",
       "      <th>4</th>\n",
       "      <td>OG</td>\n",
       "      <td>Outgoing calls</td>\n",
       "    </tr>\n",
       "    <tr>\n",
       "      <th>5</th>\n",
       "      <td>T2T</td>\n",
       "      <td>Operator T to T ie within same operator mobile...</td>\n",
       "    </tr>\n",
       "    <tr>\n",
       "      <th>6</th>\n",
       "      <td>T2M</td>\n",
       "      <td>Operator T to other operator mobile</td>\n",
       "    </tr>\n",
       "    <tr>\n",
       "      <th>7</th>\n",
       "      <td>T2O</td>\n",
       "      <td>Operator T to other operator fixed line</td>\n",
       "    </tr>\n",
       "    <tr>\n",
       "      <th>8</th>\n",
       "      <td>T2F</td>\n",
       "      <td>Operator T to fixed lines of T</td>\n",
       "    </tr>\n",
       "    <tr>\n",
       "      <th>9</th>\n",
       "      <td>T2C</td>\n",
       "      <td>Operator T to its own call center</td>\n",
       "    </tr>\n",
       "    <tr>\n",
       "      <th>10</th>\n",
       "      <td>ARPU</td>\n",
       "      <td>Average revenue per user</td>\n",
       "    </tr>\n",
       "    <tr>\n",
       "      <th>11</th>\n",
       "      <td>MOU</td>\n",
       "      <td>Minutes of usage  voice calls</td>\n",
       "    </tr>\n",
       "    <tr>\n",
       "      <th>12</th>\n",
       "      <td>AON</td>\n",
       "      <td>Age on network  number of days the customer is...</td>\n",
       "    </tr>\n",
       "    <tr>\n",
       "      <th>13</th>\n",
       "      <td>ONNET</td>\n",
       "      <td>All kind of calls within the same operator net...</td>\n",
       "    </tr>\n",
       "    <tr>\n",
       "      <th>14</th>\n",
       "      <td>OFFNET</td>\n",
       "      <td>All kind of calls outside the operator T network</td>\n",
       "    </tr>\n",
       "    <tr>\n",
       "      <th>15</th>\n",
       "      <td>ROAM</td>\n",
       "      <td>Indicates that customer is in roaming zone dur...</td>\n",
       "    </tr>\n",
       "    <tr>\n",
       "      <th>16</th>\n",
       "      <td>SPL</td>\n",
       "      <td>Special calls</td>\n",
       "    </tr>\n",
       "    <tr>\n",
       "      <th>17</th>\n",
       "      <td>ISD</td>\n",
       "      <td>ISD calls</td>\n",
       "    </tr>\n",
       "    <tr>\n",
       "      <th>18</th>\n",
       "      <td>RECH</td>\n",
       "      <td>Recharge</td>\n",
       "    </tr>\n",
       "    <tr>\n",
       "      <th>19</th>\n",
       "      <td>NUM</td>\n",
       "      <td>Number</td>\n",
       "    </tr>\n",
       "    <tr>\n",
       "      <th>20</th>\n",
       "      <td>AMT</td>\n",
       "      <td>Amount in local currency</td>\n",
       "    </tr>\n",
       "    <tr>\n",
       "      <th>21</th>\n",
       "      <td>MAX</td>\n",
       "      <td>Maximum</td>\n",
       "    </tr>\n",
       "    <tr>\n",
       "      <th>22</th>\n",
       "      <td>DATA</td>\n",
       "      <td>Mobile internet</td>\n",
       "    </tr>\n",
       "    <tr>\n",
       "      <th>23</th>\n",
       "      <td>3G</td>\n",
       "      <td>G network</td>\n",
       "    </tr>\n",
       "    <tr>\n",
       "      <th>24</th>\n",
       "      <td>AV</td>\n",
       "      <td>Average</td>\n",
       "    </tr>\n",
       "    <tr>\n",
       "      <th>25</th>\n",
       "      <td>VOL</td>\n",
       "      <td>Mobile internet usage volume in MB</td>\n",
       "    </tr>\n",
       "    <tr>\n",
       "      <th>26</th>\n",
       "      <td>2G</td>\n",
       "      <td>G network</td>\n",
       "    </tr>\n",
       "    <tr>\n",
       "      <th>27</th>\n",
       "      <td>PCK</td>\n",
       "      <td>Prepaid service schemes called  PACKS</td>\n",
       "    </tr>\n",
       "    <tr>\n",
       "      <th>28</th>\n",
       "      <td>NIGHT</td>\n",
       "      <td>Scheme to use during specific night hours only</td>\n",
       "    </tr>\n",
       "    <tr>\n",
       "      <th>29</th>\n",
       "      <td>MONTHLY</td>\n",
       "      <td>Service schemes with validity equivalent to a ...</td>\n",
       "    </tr>\n",
       "    <tr>\n",
       "      <th>30</th>\n",
       "      <td>SACHET</td>\n",
       "      <td>Service schemes with validity smaller than a m...</td>\n",
       "    </tr>\n",
       "    <tr>\n",
       "      <th>31</th>\n",
       "      <td>*.6</td>\n",
       "      <td>KPI for the month of June</td>\n",
       "    </tr>\n",
       "    <tr>\n",
       "      <th>32</th>\n",
       "      <td>*.7</td>\n",
       "      <td>KPI for the month of July</td>\n",
       "    </tr>\n",
       "    <tr>\n",
       "      <th>33</th>\n",
       "      <td>*.8</td>\n",
       "      <td>KPI for the month of August</td>\n",
       "    </tr>\n",
       "    <tr>\n",
       "      <th>34</th>\n",
       "      <td>FB_USER</td>\n",
       "      <td>Service scheme to avail services of Facebook a...</td>\n",
       "    </tr>\n",
       "    <tr>\n",
       "      <th>35</th>\n",
       "      <td>VBC</td>\n",
       "      <td>Volume based cost  when no specific scheme is ...</td>\n",
       "    </tr>\n",
       "  </tbody>\n",
       "</table>\n",
       "</div>"
      ],
      "text/plain": [
       "       Acronyms                                        Description\n",
       "0     CIRCLE_ID  Telecom circle area to which the customer belo...\n",
       "1           LOC            Local calls  within same telecom circle\n",
       "2           STD              STD calls  outside the calling circle\n",
       "3            IC                                     Incoming calls\n",
       "4            OG                                     Outgoing calls\n",
       "5           T2T  Operator T to T ie within same operator mobile...\n",
       "6       T2M                    Operator T to other operator mobile\n",
       "7       T2O                Operator T to other operator fixed line\n",
       "8       T2F                         Operator T to fixed lines of T\n",
       "9       T2C                      Operator T to its own call center\n",
       "10     ARPU                               Average revenue per user\n",
       "11      MOU                          Minutes of usage  voice calls\n",
       "12      AON      Age on network  number of days the customer is...\n",
       "13     ONNET     All kind of calls within the same operator net...\n",
       "14   OFFNET       All kind of calls outside the operator T network\n",
       "15         ROAM  Indicates that customer is in roaming zone dur...\n",
       "16       SPL                                         Special calls\n",
       "17      ISD                                              ISD calls\n",
       "18     RECH                                               Recharge\n",
       "19      NUM                                                 Number\n",
       "20      AMT                               Amount in local currency\n",
       "21      MAX                                                Maximum\n",
       "22     DATA                                        Mobile internet\n",
       "23       3G                                              G network\n",
       "24       AV                                                Average\n",
       "25      VOL                     Mobile internet usage volume in MB\n",
       "26       2G                                              G network\n",
       "27      PCK                  Prepaid service schemes called  PACKS\n",
       "28    NIGHT         Scheme to use during specific night hours only\n",
       "29  MONTHLY      Service schemes with validity equivalent to a ...\n",
       "30    SACHET     Service schemes with validity smaller than a m...\n",
       "31      *.6                              KPI for the month of June\n",
       "32      *.7                              KPI for the month of July\n",
       "33      *.8                            KPI for the month of August\n",
       "34      FB_USER  Service scheme to avail services of Facebook a...\n",
       "35      VBC      Volume based cost  when no specific scheme is ..."
      ]
     },
     "execution_count": 3,
     "metadata": {},
     "output_type": "execute_result"
    }
   ],
   "source": [
    "data_dict"
   ]
  },
  {
   "cell_type": "markdown",
   "id": "a539a581",
   "metadata": {
    "papermill": {
     "duration": 0.049921,
     "end_time": "2022-05-09T15:05:58.324166",
     "exception": false,
     "start_time": "2022-05-09T15:05:58.274245",
     "status": "completed"
    },
    "tags": []
   },
   "source": [
    "The data dictionary contains a list of abbreviations that provides us with all the information we need to understand what a specific feature or variable in the churn dataset represents:\n",
    "\n",
    "> ARPU -> Average revenue per user + KPI for the month of July\n",
    ">\n",
    "> OFFNET ->  All kind of calls outside the operator T network.\n",
    ">\n",
    ">ROAM -> Indicates that customer is in roaming zone during the call\n",
    ">\n",
    ">SPL -> Special calls"
   ]
  },
  {
   "cell_type": "code",
   "execution_count": 4,
   "id": "43575c42",
   "metadata": {
    "execution": {
     "iopub.execute_input": "2022-05-09T15:05:59.030094Z",
     "iopub.status.busy": "2022-05-09T15:05:59.029602Z",
     "iopub.status.idle": "2022-05-09T15:05:59.052388Z",
     "shell.execute_reply": "2022-05-09T15:05:59.051533Z"
    },
    "papermill": {
     "duration": 0.079287,
     "end_time": "2022-05-09T15:05:59.054533",
     "exception": false,
     "start_time": "2022-05-09T15:05:58.975246",
     "status": "completed"
    },
    "tags": []
   },
   "outputs": [
    {
     "name": "stdout",
     "output_type": "stream",
     "text": [
      "<class 'pandas.core.frame.DataFrame'>\n",
      "RangeIndex: 69999 entries, 0 to 69998\n",
      "Data columns (total 172 columns):\n",
      " #    Column                    Dtype  \n",
      "---   ------                    -----  \n",
      " 0    id                        int64  \n",
      " 1    circle_id                 int64  \n",
      " 2    loc_og_t2o_mou            float64\n",
      " 3    std_og_t2o_mou            float64\n",
      " 4    loc_ic_t2o_mou            float64\n",
      " 5    last_date_of_month_6      object \n",
      " 6    last_date_of_month_7      object \n",
      " 7    last_date_of_month_8      object \n",
      " 8    arpu_6                    float64\n",
      " 9    arpu_7                    float64\n",
      " 10   arpu_8                    float64\n",
      " 11   onnet_mou_6               float64\n",
      " 12   onnet_mou_7               float64\n",
      " 13   onnet_mou_8               float64\n",
      " 14   offnet_mou_6              float64\n",
      " 15   offnet_mou_7              float64\n",
      " 16   offnet_mou_8              float64\n",
      " 17   roam_ic_mou_6             float64\n",
      " 18   roam_ic_mou_7             float64\n",
      " 19   roam_ic_mou_8             float64\n",
      " 20   roam_og_mou_6             float64\n",
      " 21   roam_og_mou_7             float64\n",
      " 22   roam_og_mou_8             float64\n",
      " 23   loc_og_t2t_mou_6          float64\n",
      " 24   loc_og_t2t_mou_7          float64\n",
      " 25   loc_og_t2t_mou_8          float64\n",
      " 26   loc_og_t2m_mou_6          float64\n",
      " 27   loc_og_t2m_mou_7          float64\n",
      " 28   loc_og_t2m_mou_8          float64\n",
      " 29   loc_og_t2f_mou_6          float64\n",
      " 30   loc_og_t2f_mou_7          float64\n",
      " 31   loc_og_t2f_mou_8          float64\n",
      " 32   loc_og_t2c_mou_6          float64\n",
      " 33   loc_og_t2c_mou_7          float64\n",
      " 34   loc_og_t2c_mou_8          float64\n",
      " 35   loc_og_mou_6              float64\n",
      " 36   loc_og_mou_7              float64\n",
      " 37   loc_og_mou_8              float64\n",
      " 38   std_og_t2t_mou_6          float64\n",
      " 39   std_og_t2t_mou_7          float64\n",
      " 40   std_og_t2t_mou_8          float64\n",
      " 41   std_og_t2m_mou_6          float64\n",
      " 42   std_og_t2m_mou_7          float64\n",
      " 43   std_og_t2m_mou_8          float64\n",
      " 44   std_og_t2f_mou_6          float64\n",
      " 45   std_og_t2f_mou_7          float64\n",
      " 46   std_og_t2f_mou_8          float64\n",
      " 47   std_og_t2c_mou_6          float64\n",
      " 48   std_og_t2c_mou_7          float64\n",
      " 49   std_og_t2c_mou_8          float64\n",
      " 50   std_og_mou_6              float64\n",
      " 51   std_og_mou_7              float64\n",
      " 52   std_og_mou_8              float64\n",
      " 53   isd_og_mou_6              float64\n",
      " 54   isd_og_mou_7              float64\n",
      " 55   isd_og_mou_8              float64\n",
      " 56   spl_og_mou_6              float64\n",
      " 57   spl_og_mou_7              float64\n",
      " 58   spl_og_mou_8              float64\n",
      " 59   og_others_6               float64\n",
      " 60   og_others_7               float64\n",
      " 61   og_others_8               float64\n",
      " 62   total_og_mou_6            float64\n",
      " 63   total_og_mou_7            float64\n",
      " 64   total_og_mou_8            float64\n",
      " 65   loc_ic_t2t_mou_6          float64\n",
      " 66   loc_ic_t2t_mou_7          float64\n",
      " 67   loc_ic_t2t_mou_8          float64\n",
      " 68   loc_ic_t2m_mou_6          float64\n",
      " 69   loc_ic_t2m_mou_7          float64\n",
      " 70   loc_ic_t2m_mou_8          float64\n",
      " 71   loc_ic_t2f_mou_6          float64\n",
      " 72   loc_ic_t2f_mou_7          float64\n",
      " 73   loc_ic_t2f_mou_8          float64\n",
      " 74   loc_ic_mou_6              float64\n",
      " 75   loc_ic_mou_7              float64\n",
      " 76   loc_ic_mou_8              float64\n",
      " 77   std_ic_t2t_mou_6          float64\n",
      " 78   std_ic_t2t_mou_7          float64\n",
      " 79   std_ic_t2t_mou_8          float64\n",
      " 80   std_ic_t2m_mou_6          float64\n",
      " 81   std_ic_t2m_mou_7          float64\n",
      " 82   std_ic_t2m_mou_8          float64\n",
      " 83   std_ic_t2f_mou_6          float64\n",
      " 84   std_ic_t2f_mou_7          float64\n",
      " 85   std_ic_t2f_mou_8          float64\n",
      " 86   std_ic_t2o_mou_6          float64\n",
      " 87   std_ic_t2o_mou_7          float64\n",
      " 88   std_ic_t2o_mou_8          float64\n",
      " 89   std_ic_mou_6              float64\n",
      " 90   std_ic_mou_7              float64\n",
      " 91   std_ic_mou_8              float64\n",
      " 92   total_ic_mou_6            float64\n",
      " 93   total_ic_mou_7            float64\n",
      " 94   total_ic_mou_8            float64\n",
      " 95   spl_ic_mou_6              float64\n",
      " 96   spl_ic_mou_7              float64\n",
      " 97   spl_ic_mou_8              float64\n",
      " 98   isd_ic_mou_6              float64\n",
      " 99   isd_ic_mou_7              float64\n",
      " 100  isd_ic_mou_8              float64\n",
      " 101  ic_others_6               float64\n",
      " 102  ic_others_7               float64\n",
      " 103  ic_others_8               float64\n",
      " 104  total_rech_num_6          int64  \n",
      " 105  total_rech_num_7          int64  \n",
      " 106  total_rech_num_8          int64  \n",
      " 107  total_rech_amt_6          int64  \n",
      " 108  total_rech_amt_7          int64  \n",
      " 109  total_rech_amt_8          int64  \n",
      " 110  max_rech_amt_6            int64  \n",
      " 111  max_rech_amt_7            int64  \n",
      " 112  max_rech_amt_8            int64  \n",
      " 113  date_of_last_rech_6       object \n",
      " 114  date_of_last_rech_7       object \n",
      " 115  date_of_last_rech_8       object \n",
      " 116  last_day_rch_amt_6        int64  \n",
      " 117  last_day_rch_amt_7        int64  \n",
      " 118  last_day_rch_amt_8        int64  \n",
      " 119  date_of_last_rech_data_6  object \n",
      " 120  date_of_last_rech_data_7  object \n",
      " 121  date_of_last_rech_data_8  object \n",
      " 122  total_rech_data_6         float64\n",
      " 123  total_rech_data_7         float64\n",
      " 124  total_rech_data_8         float64\n",
      " 125  max_rech_data_6           float64\n",
      " 126  max_rech_data_7           float64\n",
      " 127  max_rech_data_8           float64\n",
      " 128  count_rech_2g_6           float64\n",
      " 129  count_rech_2g_7           float64\n",
      " 130  count_rech_2g_8           float64\n",
      " 131  count_rech_3g_6           float64\n",
      " 132  count_rech_3g_7           float64\n",
      " 133  count_rech_3g_8           float64\n",
      " 134  av_rech_amt_data_6        float64\n",
      " 135  av_rech_amt_data_7        float64\n",
      " 136  av_rech_amt_data_8        float64\n",
      " 137  vol_2g_mb_6               float64\n",
      " 138  vol_2g_mb_7               float64\n",
      " 139  vol_2g_mb_8               float64\n",
      " 140  vol_3g_mb_6               float64\n",
      " 141  vol_3g_mb_7               float64\n",
      " 142  vol_3g_mb_8               float64\n",
      " 143  arpu_3g_6                 float64\n",
      " 144  arpu_3g_7                 float64\n",
      " 145  arpu_3g_8                 float64\n",
      " 146  arpu_2g_6                 float64\n",
      " 147  arpu_2g_7                 float64\n",
      " 148  arpu_2g_8                 float64\n",
      " 149  night_pck_user_6          float64\n",
      " 150  night_pck_user_7          float64\n",
      " 151  night_pck_user_8          float64\n",
      " 152  monthly_2g_6              int64  \n",
      " 153  monthly_2g_7              int64  \n",
      " 154  monthly_2g_8              int64  \n",
      " 155  sachet_2g_6               int64  \n",
      " 156  sachet_2g_7               int64  \n",
      " 157  sachet_2g_8               int64  \n",
      " 158  monthly_3g_6              int64  \n",
      " 159  monthly_3g_7              int64  \n",
      " 160  monthly_3g_8              int64  \n",
      " 161  sachet_3g_6               int64  \n",
      " 162  sachet_3g_7               int64  \n",
      " 163  sachet_3g_8               int64  \n",
      " 164  fb_user_6                 float64\n",
      " 165  fb_user_7                 float64\n",
      " 166  fb_user_8                 float64\n",
      " 167  aon                       int64  \n",
      " 168  aug_vbc_3g                float64\n",
      " 169  jul_vbc_3g                float64\n",
      " 170  jun_vbc_3g                float64\n",
      " 171  churn_probability         int64  \n",
      "dtypes: float64(135), int64(28), object(9)\n",
      "memory usage: 91.9+ MB\n"
     ]
    }
   ],
   "source": [
    "data.info(verbose=1)"
   ]
  },
  {
   "cell_type": "code",
   "execution_count": 5,
   "id": "76efe4e9",
   "metadata": {
    "execution": {
     "iopub.execute_input": "2022-05-09T15:05:59.266799Z",
     "iopub.status.busy": "2022-05-09T15:05:59.266103Z",
     "iopub.status.idle": "2022-05-09T15:05:59.407343Z",
     "shell.execute_reply": "2022-05-09T15:05:59.406538Z"
    },
    "papermill": {
     "duration": 0.197661,
     "end_time": "2022-05-09T15:05:59.409530",
     "exception": false,
     "start_time": "2022-05-09T15:05:59.211869",
     "status": "completed"
    },
    "tags": []
   },
   "outputs": [
    {
     "data": {
      "text/html": [
       "<div>\n",
       "<style scoped>\n",
       "    .dataframe tbody tr th:only-of-type {\n",
       "        vertical-align: middle;\n",
       "    }\n",
       "\n",
       "    .dataframe tbody tr th {\n",
       "        vertical-align: top;\n",
       "    }\n",
       "\n",
       "    .dataframe thead th {\n",
       "        text-align: right;\n",
       "    }\n",
       "</style>\n",
       "<table border=\"1\" class=\"dataframe\">\n",
       "  <thead>\n",
       "    <tr style=\"text-align: right;\">\n",
       "      <th></th>\n",
       "      <th>id</th>\n",
       "      <th>circle_id</th>\n",
       "      <th>loc_og_t2o_mou</th>\n",
       "      <th>std_og_t2o_mou</th>\n",
       "      <th>loc_ic_t2o_mou</th>\n",
       "      <th>last_date_of_month_6</th>\n",
       "      <th>last_date_of_month_7</th>\n",
       "      <th>last_date_of_month_8</th>\n",
       "      <th>arpu_6</th>\n",
       "      <th>arpu_7</th>\n",
       "      <th>...</th>\n",
       "      <th>sachet_3g_7</th>\n",
       "      <th>sachet_3g_8</th>\n",
       "      <th>fb_user_6</th>\n",
       "      <th>fb_user_7</th>\n",
       "      <th>fb_user_8</th>\n",
       "      <th>aon</th>\n",
       "      <th>aug_vbc_3g</th>\n",
       "      <th>jul_vbc_3g</th>\n",
       "      <th>jun_vbc_3g</th>\n",
       "      <th>churn_probability</th>\n",
       "    </tr>\n",
       "  </thead>\n",
       "  <tbody>\n",
       "    <tr>\n",
       "      <th>count</th>\n",
       "      <td>69999.000000</td>\n",
       "      <td>69999.0</td>\n",
       "      <td>69297.0</td>\n",
       "      <td>69297.0</td>\n",
       "      <td>69297.0</td>\n",
       "      <td>69999</td>\n",
       "      <td>69600</td>\n",
       "      <td>69266</td>\n",
       "      <td>69999.000000</td>\n",
       "      <td>69999.000000</td>\n",
       "      <td>...</td>\n",
       "      <td>69999.000000</td>\n",
       "      <td>69999.000000</td>\n",
       "      <td>17568.000000</td>\n",
       "      <td>17865.000000</td>\n",
       "      <td>18417.000000</td>\n",
       "      <td>69999.000000</td>\n",
       "      <td>69999.000000</td>\n",
       "      <td>69999.000000</td>\n",
       "      <td>69999.00000</td>\n",
       "      <td>69999.000000</td>\n",
       "    </tr>\n",
       "    <tr>\n",
       "      <th>unique</th>\n",
       "      <td>NaN</td>\n",
       "      <td>NaN</td>\n",
       "      <td>NaN</td>\n",
       "      <td>NaN</td>\n",
       "      <td>NaN</td>\n",
       "      <td>1</td>\n",
       "      <td>1</td>\n",
       "      <td>1</td>\n",
       "      <td>NaN</td>\n",
       "      <td>NaN</td>\n",
       "      <td>...</td>\n",
       "      <td>NaN</td>\n",
       "      <td>NaN</td>\n",
       "      <td>NaN</td>\n",
       "      <td>NaN</td>\n",
       "      <td>NaN</td>\n",
       "      <td>NaN</td>\n",
       "      <td>NaN</td>\n",
       "      <td>NaN</td>\n",
       "      <td>NaN</td>\n",
       "      <td>NaN</td>\n",
       "    </tr>\n",
       "    <tr>\n",
       "      <th>top</th>\n",
       "      <td>NaN</td>\n",
       "      <td>NaN</td>\n",
       "      <td>NaN</td>\n",
       "      <td>NaN</td>\n",
       "      <td>NaN</td>\n",
       "      <td>6/30/2014</td>\n",
       "      <td>7/31/2014</td>\n",
       "      <td>8/31/2014</td>\n",
       "      <td>NaN</td>\n",
       "      <td>NaN</td>\n",
       "      <td>...</td>\n",
       "      <td>NaN</td>\n",
       "      <td>NaN</td>\n",
       "      <td>NaN</td>\n",
       "      <td>NaN</td>\n",
       "      <td>NaN</td>\n",
       "      <td>NaN</td>\n",
       "      <td>NaN</td>\n",
       "      <td>NaN</td>\n",
       "      <td>NaN</td>\n",
       "      <td>NaN</td>\n",
       "    </tr>\n",
       "    <tr>\n",
       "      <th>freq</th>\n",
       "      <td>NaN</td>\n",
       "      <td>NaN</td>\n",
       "      <td>NaN</td>\n",
       "      <td>NaN</td>\n",
       "      <td>NaN</td>\n",
       "      <td>69999</td>\n",
       "      <td>69600</td>\n",
       "      <td>69266</td>\n",
       "      <td>NaN</td>\n",
       "      <td>NaN</td>\n",
       "      <td>...</td>\n",
       "      <td>NaN</td>\n",
       "      <td>NaN</td>\n",
       "      <td>NaN</td>\n",
       "      <td>NaN</td>\n",
       "      <td>NaN</td>\n",
       "      <td>NaN</td>\n",
       "      <td>NaN</td>\n",
       "      <td>NaN</td>\n",
       "      <td>NaN</td>\n",
       "      <td>NaN</td>\n",
       "    </tr>\n",
       "    <tr>\n",
       "      <th>mean</th>\n",
       "      <td>34999.000000</td>\n",
       "      <td>109.0</td>\n",
       "      <td>0.0</td>\n",
       "      <td>0.0</td>\n",
       "      <td>0.0</td>\n",
       "      <td>NaN</td>\n",
       "      <td>NaN</td>\n",
       "      <td>NaN</td>\n",
       "      <td>283.134365</td>\n",
       "      <td>278.185912</td>\n",
       "      <td>...</td>\n",
       "      <td>0.081444</td>\n",
       "      <td>0.085487</td>\n",
       "      <td>0.916325</td>\n",
       "      <td>0.909544</td>\n",
       "      <td>0.890319</td>\n",
       "      <td>1220.639709</td>\n",
       "      <td>68.108597</td>\n",
       "      <td>65.935830</td>\n",
       "      <td>60.07674</td>\n",
       "      <td>0.101887</td>\n",
       "    </tr>\n",
       "    <tr>\n",
       "      <th>std</th>\n",
       "      <td>20207.115084</td>\n",
       "      <td>0.0</td>\n",
       "      <td>0.0</td>\n",
       "      <td>0.0</td>\n",
       "      <td>0.0</td>\n",
       "      <td>NaN</td>\n",
       "      <td>NaN</td>\n",
       "      <td>NaN</td>\n",
       "      <td>334.213918</td>\n",
       "      <td>344.366927</td>\n",
       "      <td>...</td>\n",
       "      <td>0.634547</td>\n",
       "      <td>0.680035</td>\n",
       "      <td>0.276907</td>\n",
       "      <td>0.286842</td>\n",
       "      <td>0.312501</td>\n",
       "      <td>952.426321</td>\n",
       "      <td>269.328659</td>\n",
       "      <td>267.899034</td>\n",
       "      <td>257.22681</td>\n",
       "      <td>0.302502</td>\n",
       "    </tr>\n",
       "    <tr>\n",
       "      <th>min</th>\n",
       "      <td>0.000000</td>\n",
       "      <td>109.0</td>\n",
       "      <td>0.0</td>\n",
       "      <td>0.0</td>\n",
       "      <td>0.0</td>\n",
       "      <td>NaN</td>\n",
       "      <td>NaN</td>\n",
       "      <td>NaN</td>\n",
       "      <td>-2258.709000</td>\n",
       "      <td>-1289.715000</td>\n",
       "      <td>...</td>\n",
       "      <td>0.000000</td>\n",
       "      <td>0.000000</td>\n",
       "      <td>0.000000</td>\n",
       "      <td>0.000000</td>\n",
       "      <td>0.000000</td>\n",
       "      <td>180.000000</td>\n",
       "      <td>0.000000</td>\n",
       "      <td>0.000000</td>\n",
       "      <td>0.00000</td>\n",
       "      <td>0.000000</td>\n",
       "    </tr>\n",
       "    <tr>\n",
       "      <th>25%</th>\n",
       "      <td>17499.500000</td>\n",
       "      <td>109.0</td>\n",
       "      <td>0.0</td>\n",
       "      <td>0.0</td>\n",
       "      <td>0.0</td>\n",
       "      <td>NaN</td>\n",
       "      <td>NaN</td>\n",
       "      <td>NaN</td>\n",
       "      <td>93.581000</td>\n",
       "      <td>86.714000</td>\n",
       "      <td>...</td>\n",
       "      <td>0.000000</td>\n",
       "      <td>0.000000</td>\n",
       "      <td>1.000000</td>\n",
       "      <td>1.000000</td>\n",
       "      <td>1.000000</td>\n",
       "      <td>468.000000</td>\n",
       "      <td>0.000000</td>\n",
       "      <td>0.000000</td>\n",
       "      <td>0.00000</td>\n",
       "      <td>0.000000</td>\n",
       "    </tr>\n",
       "    <tr>\n",
       "      <th>50%</th>\n",
       "      <td>34999.000000</td>\n",
       "      <td>109.0</td>\n",
       "      <td>0.0</td>\n",
       "      <td>0.0</td>\n",
       "      <td>0.0</td>\n",
       "      <td>NaN</td>\n",
       "      <td>NaN</td>\n",
       "      <td>NaN</td>\n",
       "      <td>197.484000</td>\n",
       "      <td>191.588000</td>\n",
       "      <td>...</td>\n",
       "      <td>0.000000</td>\n",
       "      <td>0.000000</td>\n",
       "      <td>1.000000</td>\n",
       "      <td>1.000000</td>\n",
       "      <td>1.000000</td>\n",
       "      <td>868.000000</td>\n",
       "      <td>0.000000</td>\n",
       "      <td>0.000000</td>\n",
       "      <td>0.00000</td>\n",
       "      <td>0.000000</td>\n",
       "    </tr>\n",
       "    <tr>\n",
       "      <th>75%</th>\n",
       "      <td>52498.500000</td>\n",
       "      <td>109.0</td>\n",
       "      <td>0.0</td>\n",
       "      <td>0.0</td>\n",
       "      <td>0.0</td>\n",
       "      <td>NaN</td>\n",
       "      <td>NaN</td>\n",
       "      <td>NaN</td>\n",
       "      <td>370.791000</td>\n",
       "      <td>365.369500</td>\n",
       "      <td>...</td>\n",
       "      <td>0.000000</td>\n",
       "      <td>0.000000</td>\n",
       "      <td>1.000000</td>\n",
       "      <td>1.000000</td>\n",
       "      <td>1.000000</td>\n",
       "      <td>1813.000000</td>\n",
       "      <td>0.000000</td>\n",
       "      <td>0.000000</td>\n",
       "      <td>0.00000</td>\n",
       "      <td>0.000000</td>\n",
       "    </tr>\n",
       "    <tr>\n",
       "      <th>max</th>\n",
       "      <td>69998.000000</td>\n",
       "      <td>109.0</td>\n",
       "      <td>0.0</td>\n",
       "      <td>0.0</td>\n",
       "      <td>0.0</td>\n",
       "      <td>NaN</td>\n",
       "      <td>NaN</td>\n",
       "      <td>NaN</td>\n",
       "      <td>27731.088000</td>\n",
       "      <td>35145.834000</td>\n",
       "      <td>...</td>\n",
       "      <td>33.000000</td>\n",
       "      <td>41.000000</td>\n",
       "      <td>1.000000</td>\n",
       "      <td>1.000000</td>\n",
       "      <td>1.000000</td>\n",
       "      <td>4337.000000</td>\n",
       "      <td>12916.220000</td>\n",
       "      <td>9165.600000</td>\n",
       "      <td>11166.21000</td>\n",
       "      <td>1.000000</td>\n",
       "    </tr>\n",
       "  </tbody>\n",
       "</table>\n",
       "<p>11 rows × 172 columns</p>\n",
       "</div>"
      ],
      "text/plain": [
       "                  id  circle_id  loc_og_t2o_mou  std_og_t2o_mou  \\\n",
       "count   69999.000000    69999.0         69297.0         69297.0   \n",
       "unique           NaN        NaN             NaN             NaN   \n",
       "top              NaN        NaN             NaN             NaN   \n",
       "freq             NaN        NaN             NaN             NaN   \n",
       "mean    34999.000000      109.0             0.0             0.0   \n",
       "std     20207.115084        0.0             0.0             0.0   \n",
       "min         0.000000      109.0             0.0             0.0   \n",
       "25%     17499.500000      109.0             0.0             0.0   \n",
       "50%     34999.000000      109.0             0.0             0.0   \n",
       "75%     52498.500000      109.0             0.0             0.0   \n",
       "max     69998.000000      109.0             0.0             0.0   \n",
       "\n",
       "        loc_ic_t2o_mou last_date_of_month_6 last_date_of_month_7  \\\n",
       "count          69297.0                69999                69600   \n",
       "unique             NaN                    1                    1   \n",
       "top                NaN            6/30/2014            7/31/2014   \n",
       "freq               NaN                69999                69600   \n",
       "mean               0.0                  NaN                  NaN   \n",
       "std                0.0                  NaN                  NaN   \n",
       "min                0.0                  NaN                  NaN   \n",
       "25%                0.0                  NaN                  NaN   \n",
       "50%                0.0                  NaN                  NaN   \n",
       "75%                0.0                  NaN                  NaN   \n",
       "max                0.0                  NaN                  NaN   \n",
       "\n",
       "       last_date_of_month_8        arpu_6        arpu_7  ...   sachet_3g_7  \\\n",
       "count                 69266  69999.000000  69999.000000  ...  69999.000000   \n",
       "unique                    1           NaN           NaN  ...           NaN   \n",
       "top               8/31/2014           NaN           NaN  ...           NaN   \n",
       "freq                  69266           NaN           NaN  ...           NaN   \n",
       "mean                    NaN    283.134365    278.185912  ...      0.081444   \n",
       "std                     NaN    334.213918    344.366927  ...      0.634547   \n",
       "min                     NaN  -2258.709000  -1289.715000  ...      0.000000   \n",
       "25%                     NaN     93.581000     86.714000  ...      0.000000   \n",
       "50%                     NaN    197.484000    191.588000  ...      0.000000   \n",
       "75%                     NaN    370.791000    365.369500  ...      0.000000   \n",
       "max                     NaN  27731.088000  35145.834000  ...     33.000000   \n",
       "\n",
       "         sachet_3g_8     fb_user_6     fb_user_7     fb_user_8           aon  \\\n",
       "count   69999.000000  17568.000000  17865.000000  18417.000000  69999.000000   \n",
       "unique           NaN           NaN           NaN           NaN           NaN   \n",
       "top              NaN           NaN           NaN           NaN           NaN   \n",
       "freq             NaN           NaN           NaN           NaN           NaN   \n",
       "mean        0.085487      0.916325      0.909544      0.890319   1220.639709   \n",
       "std         0.680035      0.276907      0.286842      0.312501    952.426321   \n",
       "min         0.000000      0.000000      0.000000      0.000000    180.000000   \n",
       "25%         0.000000      1.000000      1.000000      1.000000    468.000000   \n",
       "50%         0.000000      1.000000      1.000000      1.000000    868.000000   \n",
       "75%         0.000000      1.000000      1.000000      1.000000   1813.000000   \n",
       "max        41.000000      1.000000      1.000000      1.000000   4337.000000   \n",
       "\n",
       "          aug_vbc_3g    jul_vbc_3g   jun_vbc_3g  churn_probability  \n",
       "count   69999.000000  69999.000000  69999.00000       69999.000000  \n",
       "unique           NaN           NaN          NaN                NaN  \n",
       "top              NaN           NaN          NaN                NaN  \n",
       "freq             NaN           NaN          NaN                NaN  \n",
       "mean       68.108597     65.935830     60.07674           0.101887  \n",
       "std       269.328659    267.899034    257.22681           0.302502  \n",
       "min         0.000000      0.000000      0.00000           0.000000  \n",
       "25%         0.000000      0.000000      0.00000           0.000000  \n",
       "50%         0.000000      0.000000      0.00000           0.000000  \n",
       "75%         0.000000      0.000000      0.00000           0.000000  \n",
       "max     12916.220000   9165.600000  11166.21000           1.000000  \n",
       "\n",
       "[11 rows x 172 columns]"
      ]
     },
     "execution_count": 5,
     "metadata": {},
     "output_type": "execute_result"
    }
   ],
   "source": [
    "data.describe(include=\"all\")"
   ]
  },
  {
   "cell_type": "markdown",
   "id": "ddf8015a",
   "metadata": {
    "papermill": {
     "duration": 0.053823,
     "end_time": "2022-05-09T15:05:53.687553",
     "exception": false,
     "start_time": "2022-05-09T15:05:53.633730",
     "status": "completed"
    },
    "tags": []
   },
   "source": [
    "# 2. Feature Engineering <a id='feature_engg'></a>"
   ]
  },
  {
   "cell_type": "markdown",
   "id": "0b101897",
   "metadata": {},
   "source": [
    "Aggregating data for each row with Sum, Averages"
   ]
  },
  {
   "cell_type": "code",
   "execution_count": 6,
   "id": "1b255c3a",
   "metadata": {
    "execution": {
     "iopub.execute_input": "2022-05-09T15:05:58.654532Z",
     "iopub.status.busy": "2022-05-09T15:05:58.654007Z",
     "iopub.status.idle": "2022-05-09T15:05:58.683969Z",
     "shell.execute_reply": "2022-05-09T15:05:58.683312Z"
    },
    "papermill": {
     "duration": 0.085548,
     "end_time": "2022-05-09T15:05:58.686005",
     "exception": false,
     "start_time": "2022-05-09T15:05:58.600457",
     "status": "completed"
    },
    "tags": []
   },
   "outputs": [],
   "source": [
    "ids = ['id','circle_id']\n",
    "total_amounts = [i for i in list(data.columns) if re.search('total.+amt',i)]\n",
    "total_outgoing_minutes = [i for i in list(data.columns) if re.search('total.+og.+mou',i)]\n",
    "offnetwork_minutes = [i for i in list(data.columns) if re.search('offnet',i)]\n",
    "average_revenue_3g = [i for i in list(data.columns) if re.search('arpu.+3g',i)]\n",
    "average_revenue_2g = [i for i in list(data.columns) if re.search('arpu.+2g',i)]\n",
    "volume_3g = [i for i in list(data.columns) if re.search('vol.+3g',i)]\n",
    "volume_2g = [i for i in list(data.columns) if re.search('vol.+2g',i)]\n",
    "age_on_network = [i for i in list(data.columns) if re.search('aon',i)]\n",
    "\n",
    "#Storing them in a single flat list\n",
    "variables = [*ids, \n",
    "             *total_amounts, \n",
    "             *total_outgoing_minutes, \n",
    "             *offnetwork_minutes, \n",
    "             *average_revenue_3g, \n",
    "             *average_revenue_2g,\n",
    "             *volume_3g,\n",
    "             *volume_2g,\n",
    "             *age_on_network, \n",
    "             'churn_probability']\n",
    "\n",
    "data = data[variables].set_index('id')"
   ]
  },
  {
   "cell_type": "code",
   "execution_count": 7,
   "id": "c592421d",
   "metadata": {
    "execution": {
     "iopub.execute_input": "2022-05-09T15:05:58.791183Z",
     "iopub.status.busy": "2022-05-09T15:05:58.790399Z",
     "iopub.status.idle": "2022-05-09T15:05:58.817208Z",
     "shell.execute_reply": "2022-05-09T15:05:58.816344Z"
    },
    "papermill": {
     "duration": 0.08178,
     "end_time": "2022-05-09T15:05:58.819199",
     "exception": false,
     "start_time": "2022-05-09T15:05:58.737419",
     "status": "completed"
    },
    "tags": []
   },
   "outputs": [
    {
     "data": {
      "text/html": [
       "<div>\n",
       "<style scoped>\n",
       "    .dataframe tbody tr th:only-of-type {\n",
       "        vertical-align: middle;\n",
       "    }\n",
       "\n",
       "    .dataframe tbody tr th {\n",
       "        vertical-align: top;\n",
       "    }\n",
       "\n",
       "    .dataframe thead th {\n",
       "        text-align: right;\n",
       "    }\n",
       "</style>\n",
       "<table border=\"1\" class=\"dataframe\">\n",
       "  <thead>\n",
       "    <tr style=\"text-align: right;\">\n",
       "      <th></th>\n",
       "      <th>circle_id</th>\n",
       "      <th>total_rech_amt_6</th>\n",
       "      <th>total_rech_amt_7</th>\n",
       "      <th>total_rech_amt_8</th>\n",
       "      <th>total_og_mou_6</th>\n",
       "      <th>total_og_mou_7</th>\n",
       "      <th>total_og_mou_8</th>\n",
       "      <th>offnet_mou_6</th>\n",
       "      <th>offnet_mou_7</th>\n",
       "      <th>offnet_mou_8</th>\n",
       "      <th>...</th>\n",
       "      <th>arpu_2g_7</th>\n",
       "      <th>arpu_2g_8</th>\n",
       "      <th>vol_3g_mb_6</th>\n",
       "      <th>vol_3g_mb_7</th>\n",
       "      <th>vol_3g_mb_8</th>\n",
       "      <th>vol_2g_mb_6</th>\n",
       "      <th>vol_2g_mb_7</th>\n",
       "      <th>vol_2g_mb_8</th>\n",
       "      <th>aon</th>\n",
       "      <th>churn_probability</th>\n",
       "    </tr>\n",
       "    <tr>\n",
       "      <th>id</th>\n",
       "      <th></th>\n",
       "      <th></th>\n",
       "      <th></th>\n",
       "      <th></th>\n",
       "      <th></th>\n",
       "      <th></th>\n",
       "      <th></th>\n",
       "      <th></th>\n",
       "      <th></th>\n",
       "      <th></th>\n",
       "      <th></th>\n",
       "      <th></th>\n",
       "      <th></th>\n",
       "      <th></th>\n",
       "      <th></th>\n",
       "      <th></th>\n",
       "      <th></th>\n",
       "      <th></th>\n",
       "      <th></th>\n",
       "      <th></th>\n",
       "      <th></th>\n",
       "    </tr>\n",
       "  </thead>\n",
       "  <tbody>\n",
       "    <tr>\n",
       "      <th>0</th>\n",
       "      <td>109</td>\n",
       "      <td>77</td>\n",
       "      <td>65</td>\n",
       "      <td>10</td>\n",
       "      <td>81.21</td>\n",
       "      <td>221.68</td>\n",
       "      <td>3.63</td>\n",
       "      <td>32.24</td>\n",
       "      <td>96.68</td>\n",
       "      <td>2.33</td>\n",
       "      <td>...</td>\n",
       "      <td>NaN</td>\n",
       "      <td>NaN</td>\n",
       "      <td>0.0</td>\n",
       "      <td>0.00</td>\n",
       "      <td>0.0</td>\n",
       "      <td>0.0</td>\n",
       "      <td>0.00</td>\n",
       "      <td>0.00</td>\n",
       "      <td>1958</td>\n",
       "      <td>0</td>\n",
       "    </tr>\n",
       "    <tr>\n",
       "      <th>1</th>\n",
       "      <td>109</td>\n",
       "      <td>0</td>\n",
       "      <td>145</td>\n",
       "      <td>50</td>\n",
       "      <td>0.00</td>\n",
       "      <td>30.73</td>\n",
       "      <td>31.66</td>\n",
       "      <td>0.00</td>\n",
       "      <td>25.99</td>\n",
       "      <td>30.89</td>\n",
       "      <td>...</td>\n",
       "      <td>122.08</td>\n",
       "      <td>NaN</td>\n",
       "      <td>0.0</td>\n",
       "      <td>3.96</td>\n",
       "      <td>0.0</td>\n",
       "      <td>0.0</td>\n",
       "      <td>352.91</td>\n",
       "      <td>0.00</td>\n",
       "      <td>710</td>\n",
       "      <td>0</td>\n",
       "    </tr>\n",
       "    <tr>\n",
       "      <th>2</th>\n",
       "      <td>109</td>\n",
       "      <td>70</td>\n",
       "      <td>120</td>\n",
       "      <td>0</td>\n",
       "      <td>56.49</td>\n",
       "      <td>99.36</td>\n",
       "      <td>0.00</td>\n",
       "      <td>53.99</td>\n",
       "      <td>82.05</td>\n",
       "      <td>0.00</td>\n",
       "      <td>...</td>\n",
       "      <td>NaN</td>\n",
       "      <td>NaN</td>\n",
       "      <td>0.0</td>\n",
       "      <td>0.00</td>\n",
       "      <td>0.0</td>\n",
       "      <td>0.0</td>\n",
       "      <td>0.00</td>\n",
       "      <td>0.00</td>\n",
       "      <td>882</td>\n",
       "      <td>0</td>\n",
       "    </tr>\n",
       "    <tr>\n",
       "      <th>3</th>\n",
       "      <td>109</td>\n",
       "      <td>160</td>\n",
       "      <td>240</td>\n",
       "      <td>130</td>\n",
       "      <td>76.03</td>\n",
       "      <td>95.98</td>\n",
       "      <td>53.84</td>\n",
       "      <td>68.76</td>\n",
       "      <td>78.48</td>\n",
       "      <td>50.23</td>\n",
       "      <td>...</td>\n",
       "      <td>NaN</td>\n",
       "      <td>NaN</td>\n",
       "      <td>0.0</td>\n",
       "      <td>0.00</td>\n",
       "      <td>0.0</td>\n",
       "      <td>0.0</td>\n",
       "      <td>0.00</td>\n",
       "      <td>0.00</td>\n",
       "      <td>982</td>\n",
       "      <td>0</td>\n",
       "    </tr>\n",
       "    <tr>\n",
       "      <th>4</th>\n",
       "      <td>109</td>\n",
       "      <td>290</td>\n",
       "      <td>136</td>\n",
       "      <td>122</td>\n",
       "      <td>63.26</td>\n",
       "      <td>42.94</td>\n",
       "      <td>15.76</td>\n",
       "      <td>56.99</td>\n",
       "      <td>38.11</td>\n",
       "      <td>9.63</td>\n",
       "      <td>...</td>\n",
       "      <td>35.12</td>\n",
       "      <td>0.0</td>\n",
       "      <td>0.0</td>\n",
       "      <td>0.00</td>\n",
       "      <td>0.0</td>\n",
       "      <td>390.8</td>\n",
       "      <td>308.89</td>\n",
       "      <td>213.47</td>\n",
       "      <td>647</td>\n",
       "      <td>0</td>\n",
       "    </tr>\n",
       "  </tbody>\n",
       "</table>\n",
       "<p>5 rows × 24 columns</p>\n",
       "</div>"
      ],
      "text/plain": [
       "    circle_id  total_rech_amt_6  total_rech_amt_7  total_rech_amt_8  \\\n",
       "id                                                                    \n",
       "0         109                77                65                10   \n",
       "1         109                 0               145                50   \n",
       "2         109                70               120                 0   \n",
       "3         109               160               240               130   \n",
       "4         109               290               136               122   \n",
       "\n",
       "    total_og_mou_6  total_og_mou_7  total_og_mou_8  offnet_mou_6  \\\n",
       "id                                                                 \n",
       "0            81.21          221.68            3.63         32.24   \n",
       "1             0.00           30.73           31.66          0.00   \n",
       "2            56.49           99.36            0.00         53.99   \n",
       "3            76.03           95.98           53.84         68.76   \n",
       "4            63.26           42.94           15.76         56.99   \n",
       "\n",
       "    offnet_mou_7  offnet_mou_8  ...  arpu_2g_7  arpu_2g_8  vol_3g_mb_6  \\\n",
       "id                              ...                                      \n",
       "0          96.68          2.33  ...        NaN        NaN          0.0   \n",
       "1          25.99         30.89  ...     122.08        NaN          0.0   \n",
       "2          82.05          0.00  ...        NaN        NaN          0.0   \n",
       "3          78.48         50.23  ...        NaN        NaN          0.0   \n",
       "4          38.11          9.63  ...      35.12        0.0          0.0   \n",
       "\n",
       "    vol_3g_mb_7  vol_3g_mb_8  vol_2g_mb_6  vol_2g_mb_7  vol_2g_mb_8   aon  \\\n",
       "id                                                                          \n",
       "0          0.00          0.0          0.0         0.00         0.00  1958   \n",
       "1          3.96          0.0          0.0       352.91         0.00   710   \n",
       "2          0.00          0.0          0.0         0.00         0.00   882   \n",
       "3          0.00          0.0          0.0         0.00         0.00   982   \n",
       "4          0.00          0.0        390.8       308.89       213.47   647   \n",
       "\n",
       "    churn_probability  \n",
       "id                     \n",
       "0                   0  \n",
       "1                   0  \n",
       "2                   0  \n",
       "3                   0  \n",
       "4                   0  \n",
       "\n",
       "[5 rows x 24 columns]"
      ]
     },
     "execution_count": 7,
     "metadata": {},
     "output_type": "execute_result"
    }
   ],
   "source": [
    "data.head()"
   ]
  },
  {
   "cell_type": "markdown",
   "id": "2ee77226",
   "metadata": {
    "papermill": {
     "duration": 0.052293,
     "end_time": "2022-05-09T15:05:59.514874",
     "exception": false,
     "start_time": "2022-05-09T15:05:59.462581",
     "status": "completed"
    },
    "tags": []
   },
   "source": [
    "### -------------------------------------------------------- Splitting Data--------------------------------------------------------"
   ]
  },
  {
   "cell_type": "code",
   "execution_count": 8,
   "id": "b1831fb1",
   "metadata": {
    "execution": {
     "iopub.execute_input": "2022-05-09T15:05:59.623322Z",
     "iopub.status.busy": "2022-05-09T15:05:59.622784Z",
     "iopub.status.idle": "2022-05-09T15:05:59.629535Z",
     "shell.execute_reply": "2022-05-09T15:05:59.628872Z"
    },
    "papermill": {
     "duration": 0.06373,
     "end_time": "2022-05-09T15:05:59.631334",
     "exception": false,
     "start_time": "2022-05-09T15:05:59.567604",
     "status": "completed"
    },
    "tags": []
   },
   "outputs": [
    {
     "data": {
      "text/plain": [
       "array([109])"
      ]
     },
     "execution_count": 8,
     "metadata": {},
     "output_type": "execute_result"
    }
   ],
   "source": [
    "data['circle_id'].unique()"
   ]
  },
  {
   "cell_type": "code",
   "execution_count": 9,
   "id": "074c0572",
   "metadata": {
    "execution": {
     "iopub.execute_input": "2022-05-09T15:05:59.737525Z",
     "iopub.status.busy": "2022-05-09T15:05:59.737007Z",
     "iopub.status.idle": "2022-05-09T15:05:59.751600Z",
     "shell.execute_reply": "2022-05-09T15:05:59.750846Z"
    },
    "papermill": {
     "duration": 0.070283,
     "end_time": "2022-05-09T15:05:59.753421",
     "exception": false,
     "start_time": "2022-05-09T15:05:59.683138",
     "status": "completed"
    },
    "tags": []
   },
   "outputs": [
    {
     "data": {
      "text/plain": [
       "((69999, 22), (69999,))"
      ]
     },
     "execution_count": 9,
     "metadata": {},
     "output_type": "execute_result"
    }
   ],
   "source": [
    "X = data.drop(['circle_id'],1).iloc[:,:-1]\n",
    "y = data.iloc[:,-1]\n",
    "\n",
    "X.shape, y.shape"
   ]
  },
  {
   "cell_type": "markdown",
   "id": "08b83750",
   "metadata": {
    "papermill": {
     "duration": 0.054406,
     "end_time": "2022-05-09T15:05:59.862040",
     "exception": false,
     "start_time": "2022-05-09T15:05:59.807634",
     "status": "completed"
    },
    "tags": []
   },
   "source": [
    "Splitting train and test data to avoid any contamination of the test data"
   ]
  },
  {
   "cell_type": "code",
   "execution_count": 10,
   "id": "d0de286f",
   "metadata": {
    "execution": {
     "iopub.execute_input": "2022-05-09T15:05:59.969788Z",
     "iopub.status.busy": "2022-05-09T15:05:59.969270Z",
     "iopub.status.idle": "2022-05-09T15:05:59.990777Z",
     "shell.execute_reply": "2022-05-09T15:05:59.989976Z"
    },
    "papermill": {
     "duration": 0.077734,
     "end_time": "2022-05-09T15:05:59.992637",
     "exception": false,
     "start_time": "2022-05-09T15:05:59.914903",
     "status": "completed"
    },
    "tags": []
   },
   "outputs": [
    {
     "data": {
      "text/plain": [
       "((55999, 22), (14000, 22), (55999,), (14000,))"
      ]
     },
     "execution_count": 10,
     "metadata": {},
     "output_type": "execute_result"
    }
   ],
   "source": [
    "X_train, X_test, y_train, y_test = train_test_split(X, y, test_size=0.2)\n",
    "\n",
    "X_train.shape, X_test.shape, y_train.shape, y_test.shape"
   ]
  },
  {
   "cell_type": "code",
   "execution_count": 11,
   "id": "7d9f8244",
   "metadata": {
    "execution": {
     "iopub.execute_input": "2022-05-09T15:06:00.101561Z",
     "iopub.status.busy": "2022-05-09T15:06:00.101305Z",
     "iopub.status.idle": "2022-05-09T15:06:00.126033Z",
     "shell.execute_reply": "2022-05-09T15:06:00.125125Z"
    },
    "papermill": {
     "duration": 0.080358,
     "end_time": "2022-05-09T15:06:00.127842",
     "exception": false,
     "start_time": "2022-05-09T15:06:00.047484",
     "status": "completed"
    },
    "tags": []
   },
   "outputs": [
    {
     "data": {
      "text/html": [
       "<div>\n",
       "<style scoped>\n",
       "    .dataframe tbody tr th:only-of-type {\n",
       "        vertical-align: middle;\n",
       "    }\n",
       "\n",
       "    .dataframe tbody tr th {\n",
       "        vertical-align: top;\n",
       "    }\n",
       "\n",
       "    .dataframe thead th {\n",
       "        text-align: right;\n",
       "    }\n",
       "</style>\n",
       "<table border=\"1\" class=\"dataframe\">\n",
       "  <thead>\n",
       "    <tr style=\"text-align: right;\">\n",
       "      <th></th>\n",
       "      <th>total_rech_amt_6</th>\n",
       "      <th>total_rech_amt_7</th>\n",
       "      <th>total_rech_amt_8</th>\n",
       "      <th>total_og_mou_6</th>\n",
       "      <th>total_og_mou_7</th>\n",
       "      <th>total_og_mou_8</th>\n",
       "      <th>offnet_mou_6</th>\n",
       "      <th>offnet_mou_7</th>\n",
       "      <th>offnet_mou_8</th>\n",
       "      <th>arpu_3g_6</th>\n",
       "      <th>...</th>\n",
       "      <th>arpu_2g_6</th>\n",
       "      <th>arpu_2g_7</th>\n",
       "      <th>arpu_2g_8</th>\n",
       "      <th>vol_3g_mb_6</th>\n",
       "      <th>vol_3g_mb_7</th>\n",
       "      <th>vol_3g_mb_8</th>\n",
       "      <th>vol_2g_mb_6</th>\n",
       "      <th>vol_2g_mb_7</th>\n",
       "      <th>vol_2g_mb_8</th>\n",
       "      <th>aon</th>\n",
       "    </tr>\n",
       "    <tr>\n",
       "      <th>id</th>\n",
       "      <th></th>\n",
       "      <th></th>\n",
       "      <th></th>\n",
       "      <th></th>\n",
       "      <th></th>\n",
       "      <th></th>\n",
       "      <th></th>\n",
       "      <th></th>\n",
       "      <th></th>\n",
       "      <th></th>\n",
       "      <th></th>\n",
       "      <th></th>\n",
       "      <th></th>\n",
       "      <th></th>\n",
       "      <th></th>\n",
       "      <th></th>\n",
       "      <th></th>\n",
       "      <th></th>\n",
       "      <th></th>\n",
       "      <th></th>\n",
       "      <th></th>\n",
       "    </tr>\n",
       "  </thead>\n",
       "  <tbody>\n",
       "    <tr>\n",
       "      <th>37477</th>\n",
       "      <td>230</td>\n",
       "      <td>0</td>\n",
       "      <td>0</td>\n",
       "      <td>251.84</td>\n",
       "      <td>0.00</td>\n",
       "      <td>0.00</td>\n",
       "      <td>199.94</td>\n",
       "      <td>NaN</td>\n",
       "      <td>NaN</td>\n",
       "      <td>NaN</td>\n",
       "      <td>...</td>\n",
       "      <td>NaN</td>\n",
       "      <td>NaN</td>\n",
       "      <td>NaN</td>\n",
       "      <td>0.00</td>\n",
       "      <td>0.00</td>\n",
       "      <td>0.00</td>\n",
       "      <td>0.00</td>\n",
       "      <td>0.00</td>\n",
       "      <td>0.00</td>\n",
       "      <td>326</td>\n",
       "    </tr>\n",
       "    <tr>\n",
       "      <th>48025</th>\n",
       "      <td>150</td>\n",
       "      <td>532</td>\n",
       "      <td>372</td>\n",
       "      <td>256.36</td>\n",
       "      <td>185.66</td>\n",
       "      <td>230.84</td>\n",
       "      <td>1.08</td>\n",
       "      <td>4.46</td>\n",
       "      <td>14.94</td>\n",
       "      <td>NaN</td>\n",
       "      <td>...</td>\n",
       "      <td>NaN</td>\n",
       "      <td>5.70</td>\n",
       "      <td>224.01</td>\n",
       "      <td>0.00</td>\n",
       "      <td>0.00</td>\n",
       "      <td>729.98</td>\n",
       "      <td>0.00</td>\n",
       "      <td>2006.06</td>\n",
       "      <td>700.05</td>\n",
       "      <td>1151</td>\n",
       "    </tr>\n",
       "    <tr>\n",
       "      <th>7919</th>\n",
       "      <td>207</td>\n",
       "      <td>157</td>\n",
       "      <td>260</td>\n",
       "      <td>247.48</td>\n",
       "      <td>309.39</td>\n",
       "      <td>389.48</td>\n",
       "      <td>138.81</td>\n",
       "      <td>245.66</td>\n",
       "      <td>356.88</td>\n",
       "      <td>0.00</td>\n",
       "      <td>...</td>\n",
       "      <td>0.0</td>\n",
       "      <td>0.00</td>\n",
       "      <td>NaN</td>\n",
       "      <td>0.00</td>\n",
       "      <td>0.00</td>\n",
       "      <td>0.00</td>\n",
       "      <td>0.00</td>\n",
       "      <td>0.00</td>\n",
       "      <td>0.00</td>\n",
       "      <td>2500</td>\n",
       "    </tr>\n",
       "    <tr>\n",
       "      <th>20849</th>\n",
       "      <td>0</td>\n",
       "      <td>363</td>\n",
       "      <td>90</td>\n",
       "      <td>0.00</td>\n",
       "      <td>343.51</td>\n",
       "      <td>51.48</td>\n",
       "      <td>NaN</td>\n",
       "      <td>98.66</td>\n",
       "      <td>35.41</td>\n",
       "      <td>NaN</td>\n",
       "      <td>...</td>\n",
       "      <td>NaN</td>\n",
       "      <td>NaN</td>\n",
       "      <td>NaN</td>\n",
       "      <td>0.00</td>\n",
       "      <td>0.00</td>\n",
       "      <td>0.00</td>\n",
       "      <td>0.00</td>\n",
       "      <td>0.00</td>\n",
       "      <td>0.00</td>\n",
       "      <td>3164</td>\n",
       "    </tr>\n",
       "    <tr>\n",
       "      <th>34242</th>\n",
       "      <td>235</td>\n",
       "      <td>0</td>\n",
       "      <td>825</td>\n",
       "      <td>492.34</td>\n",
       "      <td>52.29</td>\n",
       "      <td>990.83</td>\n",
       "      <td>422.96</td>\n",
       "      <td>62.63</td>\n",
       "      <td>896.96</td>\n",
       "      <td>0.01</td>\n",
       "      <td>...</td>\n",
       "      <td>0.0</td>\n",
       "      <td>52.87</td>\n",
       "      <td>212.00</td>\n",
       "      <td>1224.59</td>\n",
       "      <td>455.72</td>\n",
       "      <td>1963.79</td>\n",
       "      <td>8.09</td>\n",
       "      <td>220.67</td>\n",
       "      <td>4.17</td>\n",
       "      <td>350</td>\n",
       "    </tr>\n",
       "  </tbody>\n",
       "</table>\n",
       "<p>5 rows × 22 columns</p>\n",
       "</div>"
      ],
      "text/plain": [
       "       total_rech_amt_6  total_rech_amt_7  total_rech_amt_8  total_og_mou_6  \\\n",
       "id                                                                            \n",
       "37477               230                 0                 0          251.84   \n",
       "48025               150               532               372          256.36   \n",
       "7919                207               157               260          247.48   \n",
       "20849                 0               363                90            0.00   \n",
       "34242               235                 0               825          492.34   \n",
       "\n",
       "       total_og_mou_7  total_og_mou_8  offnet_mou_6  offnet_mou_7  \\\n",
       "id                                                                  \n",
       "37477            0.00            0.00        199.94           NaN   \n",
       "48025          185.66          230.84          1.08          4.46   \n",
       "7919           309.39          389.48        138.81        245.66   \n",
       "20849          343.51           51.48           NaN         98.66   \n",
       "34242           52.29          990.83        422.96         62.63   \n",
       "\n",
       "       offnet_mou_8  arpu_3g_6  ...  arpu_2g_6  arpu_2g_7  arpu_2g_8  \\\n",
       "id                              ...                                    \n",
       "37477           NaN        NaN  ...        NaN        NaN        NaN   \n",
       "48025         14.94        NaN  ...        NaN       5.70     224.01   \n",
       "7919         356.88       0.00  ...        0.0       0.00        NaN   \n",
       "20849         35.41        NaN  ...        NaN        NaN        NaN   \n",
       "34242        896.96       0.01  ...        0.0      52.87     212.00   \n",
       "\n",
       "       vol_3g_mb_6  vol_3g_mb_7  vol_3g_mb_8  vol_2g_mb_6  vol_2g_mb_7  \\\n",
       "id                                                                       \n",
       "37477         0.00         0.00         0.00         0.00         0.00   \n",
       "48025         0.00         0.00       729.98         0.00      2006.06   \n",
       "7919          0.00         0.00         0.00         0.00         0.00   \n",
       "20849         0.00         0.00         0.00         0.00         0.00   \n",
       "34242      1224.59       455.72      1963.79         8.09       220.67   \n",
       "\n",
       "       vol_2g_mb_8   aon  \n",
       "id                        \n",
       "37477         0.00   326  \n",
       "48025       700.05  1151  \n",
       "7919          0.00  2500  \n",
       "20849         0.00  3164  \n",
       "34242         4.17   350  \n",
       "\n",
       "[5 rows x 22 columns]"
      ]
     },
     "execution_count": 11,
     "metadata": {},
     "output_type": "execute_result"
    }
   ],
   "source": [
    "X_train.head()"
   ]
  },
  {
   "cell_type": "markdown",
   "id": "968498c6",
   "metadata": {
    "papermill": {
     "duration": 0.054461,
     "end_time": "2022-05-09T15:06:00.237968",
     "exception": false,
     "start_time": "2022-05-09T15:06:00.183507",
     "status": "completed"
    },
    "tags": []
   },
   "source": [
    "# 3. Treating Missing data <a id='missing_val'></a>"
   ]
  },
  {
   "cell_type": "code",
   "execution_count": 12,
   "id": "5fcc3a83",
   "metadata": {},
   "outputs": [
    {
     "data": {
      "text/plain": [
       "<AxesSubplot:ylabel='id'>"
      ]
     },
     "execution_count": 12,
     "metadata": {},
     "output_type": "execute_result"
    },
    {
     "data": {
      "image/png": "[encoded data removed]",
      "text/plain": [
       "<Figure size 1080x720 with 2 Axes>"
      ]
     },
     "metadata": {
      "needs_background": "light"
     },
     "output_type": "display_data"
    }
   ],
   "source": [
    "#Visualizing Missing data using Seaborn\n",
    "\n",
    "plt.figure(figsize=(15,10))\n",
    "sns.heatmap(X_train.isna())"
   ]
  },
  {
   "cell_type": "code",
   "execution_count": 13,
   "id": "c03c246f",
   "metadata": {
    "execution": {
     "iopub.execute_input": "2022-05-09T15:06:02.912471Z",
     "iopub.status.busy": "2022-05-09T15:06:02.912180Z",
     "iopub.status.idle": "2022-05-09T15:06:02.922662Z",
     "shell.execute_reply": "2022-05-09T15:06:02.921879Z"
    },
    "papermill": {
     "duration": 0.072179,
     "end_time": "2022-05-09T15:06:02.924516",
     "exception": false,
     "start_time": "2022-05-09T15:06:02.852337",
     "status": "completed"
    },
    "tags": []
   },
   "outputs": [
    {
     "data": {
      "text/plain": [
       "total_rech_amt_6     0.000000\n",
       "total_rech_amt_7     0.000000\n",
       "total_rech_amt_8     0.000000\n",
       "total_og_mou_6       0.000000\n",
       "total_og_mou_7       0.000000\n",
       "total_og_mou_8       0.000000\n",
       "offnet_mou_6         3.973285\n",
       "offnet_mou_7         3.853640\n",
       "offnet_mou_8         5.298309\n",
       "arpu_3g_6           74.751335\n",
       "arpu_3g_7           74.406686\n",
       "arpu_3g_8           73.719174\n",
       "arpu_2g_6           74.751335\n",
       "arpu_2g_7           74.406686\n",
       "arpu_2g_8           73.719174\n",
       "vol_3g_mb_6          0.000000\n",
       "vol_3g_mb_7          0.000000\n",
       "vol_3g_mb_8          0.000000\n",
       "vol_2g_mb_6          0.000000\n",
       "vol_2g_mb_7          0.000000\n",
       "vol_2g_mb_8          0.000000\n",
       "aon                  0.000000\n",
       "dtype: float64"
      ]
     },
     "execution_count": 13,
     "metadata": {},
     "output_type": "execute_result"
    }
   ],
   "source": [
    "#Missing value %\n",
    "missing_data_percent = 100*X_train.isnull().sum()/len(y_train)\n",
    "missing_data_percent"
   ]
  },
  {
   "cell_type": "markdown",
   "id": "2c05d8f0",
   "metadata": {
    "papermill": {
     "duration": 0.059352,
     "end_time": "2022-05-09T15:06:03.042248",
     "exception": false,
     "start_time": "2022-05-09T15:06:02.982896",
     "status": "completed"
    },
    "tags": []
   },
   "source": [
    "`Columns with too many missing values are not very useful for predicting churn, so we drop them and keep only the columns that have less than 40% missing data.`"
   ]
  },
  {
   "cell_type": "code",
   "execution_count": 14,
   "id": "bd84a152",
   "metadata": {
    "execution": {
     "iopub.execute_input": "2022-05-09T15:06:03.162363Z",
     "iopub.status.busy": "2022-05-09T15:06:03.161466Z",
     "iopub.status.idle": "2022-05-09T15:06:03.168359Z",
     "shell.execute_reply": "2022-05-09T15:06:03.167724Z"
    },
    "papermill": {
     "duration": 0.069203,
     "end_time": "2022-05-09T15:06:03.170081",
     "exception": false,
     "start_time": "2022-05-09T15:06:03.100878",
     "status": "completed"
    },
    "tags": []
   },
   "outputs": [
    {
     "data": {
      "text/plain": [
       "Index(['total_rech_amt_6', 'total_rech_amt_7', 'total_rech_amt_8',\n",
       "       'total_og_mou_6', 'total_og_mou_7', 'total_og_mou_8', 'offnet_mou_6',\n",
       "       'offnet_mou_7', 'offnet_mou_8', 'vol_3g_mb_6', 'vol_3g_mb_7',\n",
       "       'vol_3g_mb_8', 'vol_2g_mb_6', 'vol_2g_mb_7', 'vol_2g_mb_8', 'aon'],\n",
       "      dtype='object')"
      ]
     },
     "execution_count": 14,
     "metadata": {},
     "output_type": "execute_result"
    }
   ],
   "source": [
    "new_vars = missing_data_percent[missing_data_percent.le(40)].index\n",
    "new_vars"
   ]
  },
  {
   "cell_type": "code",
   "execution_count": 15,
   "id": "c9f872b1",
   "metadata": {
    "execution": {
     "iopub.execute_input": "2022-05-09T15:06:03.292661Z",
     "iopub.status.busy": "2022-05-09T15:06:03.291808Z",
     "iopub.status.idle": "2022-05-09T15:06:03.299503Z",
     "shell.execute_reply": "2022-05-09T15:06:03.298978Z"
    },
    "papermill": {
     "duration": 0.071947,
     "end_time": "2022-05-09T15:06:03.301399",
     "exception": false,
     "start_time": "2022-05-09T15:06:03.229452",
     "status": "completed"
    },
    "tags": []
   },
   "outputs": [
    {
     "data": {
      "text/plain": [
       "(55999, 16)"
      ]
     },
     "execution_count": 15,
     "metadata": {},
     "output_type": "execute_result"
    }
   ],
   "source": [
    "X_train_filtered = X_train[new_vars]\n",
    "X_train_filtered.shape"
   ]
  },
  {
   "cell_type": "markdown",
   "id": "9ff5664b",
   "metadata": {
    "papermill": {
     "duration": 0.060874,
     "end_time": "2022-05-09T15:06:03.424370",
     "exception": false,
     "start_time": "2022-05-09T15:06:03.363496",
     "status": "completed"
    },
    "tags": []
   },
   "source": [
    "`We will perform a simple imputation with constant values as zeros.`"
   ]
  },
  {
   "cell_type": "code",
   "execution_count": 16,
   "id": "5806b5c0",
   "metadata": {
    "execution": {
     "iopub.execute_input": "2022-05-09T15:06:03.546656Z",
     "iopub.status.busy": "2022-05-09T15:06:03.545911Z",
     "iopub.status.idle": "2022-05-09T15:06:03.553819Z",
     "shell.execute_reply": "2022-05-09T15:06:03.553111Z"
    },
    "papermill": {
     "duration": 0.070235,
     "end_time": "2022-05-09T15:06:03.555682",
     "exception": false,
     "start_time": "2022-05-09T15:06:03.485447",
     "status": "completed"
    },
    "tags": []
   },
   "outputs": [
    {
     "data": {
      "text/plain": [
       "Index(['offnet_mou_6', 'offnet_mou_7', 'offnet_mou_8'], dtype='object')"
      ]
     },
     "execution_count": 16,
     "metadata": {},
     "output_type": "execute_result"
    }
   ],
   "source": [
    "missing_data_percent = X_train_filtered.isnull().any()\n",
    "impute_cols = missing_data_percent[missing_data_percent.gt(0)].index\n",
    "impute_cols"
   ]
  },
  {
   "cell_type": "code",
   "execution_count": 17,
   "id": "00c895c9",
   "metadata": {
    "execution": {
     "iopub.execute_input": "2022-05-09T15:06:03.677152Z",
     "iopub.status.busy": "2022-05-09T15:06:03.676733Z",
     "iopub.status.idle": "2022-05-09T15:06:03.687319Z",
     "shell.execute_reply": "2022-05-09T15:06:03.686691Z"
    },
    "papermill": {
     "duration": 0.07352,
     "end_time": "2022-05-09T15:06:03.689282",
     "exception": false,
     "start_time": "2022-05-09T15:06:03.615762",
     "status": "completed"
    },
    "tags": []
   },
   "outputs": [],
   "source": [
    "imp = SimpleImputer(strategy='constant', fill_value=0)\n",
    "X_train_filtered[impute_cols] = imp.fit_transform(X_train_filtered[impute_cols])"
   ]
  },
  {
   "cell_type": "code",
   "execution_count": 18,
   "id": "383e916f",
   "metadata": {},
   "outputs": [
    {
     "data": {
      "text/plain": [
       "<AxesSubplot:ylabel='id'>"
      ]
     },
     "execution_count": 18,
     "metadata": {},
     "output_type": "execute_result"
    },
    {
     "data": {
      "image/png": "[encoded data removed]",
      "text/plain": [
       "<Figure size 1080x720 with 2 Axes>"
      ]
     },
     "metadata": {
      "needs_background": "light"
     },
     "output_type": "display_data"
    }
   ],
   "source": [
    "#Visualizing Missing data using Seaborn again\n",
    "plt.figure(figsize=(15,10))\n",
    "sns.heatmap(X_train_filtered.isna())"
   ]
  },
  {
   "cell_type": "markdown",
   "id": "9b2f8d4c",
   "metadata": {},
   "source": [
    "`Now the data has no missing values hence the imputation worked`"
   ]
  },
  {
   "cell_type": "code",
   "execution_count": 19,
   "id": "2bddd901",
   "metadata": {
    "execution": {
     "iopub.execute_input": "2022-05-09T15:06:05.110806Z",
     "iopub.status.busy": "2022-05-09T15:06:05.110498Z",
     "iopub.status.idle": "2022-05-09T15:06:05.197584Z",
     "shell.execute_reply": "2022-05-09T15:06:05.196687Z"
    },
    "papermill": {
     "duration": 0.153865,
     "end_time": "2022-05-09T15:06:05.199715",
     "exception": false,
     "start_time": "2022-05-09T15:06:05.045850",
     "status": "completed"
    },
    "tags": []
   },
   "outputs": [
    {
     "data": {
      "text/html": [
       "<div>\n",
       "<style scoped>\n",
       "    .dataframe tbody tr th:only-of-type {\n",
       "        vertical-align: middle;\n",
       "    }\n",
       "\n",
       "    .dataframe tbody tr th {\n",
       "        vertical-align: top;\n",
       "    }\n",
       "\n",
       "    .dataframe thead th {\n",
       "        text-align: right;\n",
       "    }\n",
       "</style>\n",
       "<table border=\"1\" class=\"dataframe\">\n",
       "  <thead>\n",
       "    <tr style=\"text-align: right;\">\n",
       "      <th></th>\n",
       "      <th>total_rech_amt_6</th>\n",
       "      <th>total_rech_amt_7</th>\n",
       "      <th>total_rech_amt_8</th>\n",
       "      <th>total_og_mou_6</th>\n",
       "      <th>total_og_mou_7</th>\n",
       "      <th>total_og_mou_8</th>\n",
       "      <th>offnet_mou_6</th>\n",
       "      <th>offnet_mou_7</th>\n",
       "      <th>offnet_mou_8</th>\n",
       "      <th>vol_3g_mb_6</th>\n",
       "      <th>vol_3g_mb_7</th>\n",
       "      <th>vol_3g_mb_8</th>\n",
       "      <th>vol_2g_mb_6</th>\n",
       "      <th>vol_2g_mb_7</th>\n",
       "      <th>vol_2g_mb_8</th>\n",
       "      <th>aon</th>\n",
       "    </tr>\n",
       "  </thead>\n",
       "  <tbody>\n",
       "    <tr>\n",
       "      <th>count</th>\n",
       "      <td>55999.000000</td>\n",
       "      <td>55999.000000</td>\n",
       "      <td>55999.000000</td>\n",
       "      <td>55999.000000</td>\n",
       "      <td>55999.000000</td>\n",
       "      <td>55999.000000</td>\n",
       "      <td>55999.00000</td>\n",
       "      <td>55999.000000</td>\n",
       "      <td>55999.000000</td>\n",
       "      <td>55999.000000</td>\n",
       "      <td>55999.000000</td>\n",
       "      <td>55999.00000</td>\n",
       "      <td>55999.000000</td>\n",
       "      <td>55999.000000</td>\n",
       "      <td>55999.000000</td>\n",
       "      <td>55999.000000</td>\n",
       "    </tr>\n",
       "    <tr>\n",
       "      <th>mean</th>\n",
       "      <td>328.837658</td>\n",
       "      <td>323.250094</td>\n",
       "      <td>324.360149</td>\n",
       "      <td>307.156598</td>\n",
       "      <td>311.304441</td>\n",
       "      <td>304.143342</td>\n",
       "      <td>191.97862</td>\n",
       "      <td>190.309172</td>\n",
       "      <td>186.347823</td>\n",
       "      <td>122.759663</td>\n",
       "      <td>129.690618</td>\n",
       "      <td>135.68441</td>\n",
       "      <td>52.476654</td>\n",
       "      <td>51.408794</td>\n",
       "      <td>50.229030</td>\n",
       "      <td>1218.776371</td>\n",
       "    </tr>\n",
       "    <tr>\n",
       "      <th>std</th>\n",
       "      <td>411.573353</td>\n",
       "      <td>419.325032</td>\n",
       "      <td>438.652507</td>\n",
       "      <td>468.779236</td>\n",
       "      <td>480.626876</td>\n",
       "      <td>476.732574</td>\n",
       "      <td>315.68877</td>\n",
       "      <td>319.163780</td>\n",
       "      <td>318.217921</td>\n",
       "      <td>558.861009</td>\n",
       "      <td>565.420570</td>\n",
       "      <td>583.18333</td>\n",
       "      <td>215.724053</td>\n",
       "      <td>213.119865</td>\n",
       "      <td>216.225914</td>\n",
       "      <td>951.216674</td>\n",
       "    </tr>\n",
       "    <tr>\n",
       "      <th>min</th>\n",
       "      <td>0.000000</td>\n",
       "      <td>0.000000</td>\n",
       "      <td>0.000000</td>\n",
       "      <td>0.000000</td>\n",
       "      <td>0.000000</td>\n",
       "      <td>0.000000</td>\n",
       "      <td>0.00000</td>\n",
       "      <td>0.000000</td>\n",
       "      <td>0.000000</td>\n",
       "      <td>0.000000</td>\n",
       "      <td>0.000000</td>\n",
       "      <td>0.00000</td>\n",
       "      <td>0.000000</td>\n",
       "      <td>0.000000</td>\n",
       "      <td>0.000000</td>\n",
       "      <td>180.000000</td>\n",
       "    </tr>\n",
       "    <tr>\n",
       "      <th>25%</th>\n",
       "      <td>110.000000</td>\n",
       "      <td>100.000000</td>\n",
       "      <td>92.000000</td>\n",
       "      <td>45.050000</td>\n",
       "      <td>42.830000</td>\n",
       "      <td>38.685000</td>\n",
       "      <td>28.99000</td>\n",
       "      <td>26.535000</td>\n",
       "      <td>23.740000</td>\n",
       "      <td>0.000000</td>\n",
       "      <td>0.000000</td>\n",
       "      <td>0.00000</td>\n",
       "      <td>0.000000</td>\n",
       "      <td>0.000000</td>\n",
       "      <td>0.000000</td>\n",
       "      <td>468.000000</td>\n",
       "    </tr>\n",
       "    <tr>\n",
       "      <th>50%</th>\n",
       "      <td>230.000000</td>\n",
       "      <td>220.000000</td>\n",
       "      <td>225.000000</td>\n",
       "      <td>145.260000</td>\n",
       "      <td>141.040000</td>\n",
       "      <td>137.990000</td>\n",
       "      <td>89.89000</td>\n",
       "      <td>85.780000</td>\n",
       "      <td>83.110000</td>\n",
       "      <td>0.000000</td>\n",
       "      <td>0.000000</td>\n",
       "      <td>0.00000</td>\n",
       "      <td>0.000000</td>\n",
       "      <td>0.000000</td>\n",
       "      <td>0.000000</td>\n",
       "      <td>867.000000</td>\n",
       "    </tr>\n",
       "    <tr>\n",
       "      <th>75%</th>\n",
       "      <td>436.000000</td>\n",
       "      <td>430.000000</td>\n",
       "      <td>435.000000</td>\n",
       "      <td>373.580000</td>\n",
       "      <td>382.620000</td>\n",
       "      <td>370.920000</td>\n",
       "      <td>224.85000</td>\n",
       "      <td>219.335000</td>\n",
       "      <td>217.370000</td>\n",
       "      <td>0.000000</td>\n",
       "      <td>0.000000</td>\n",
       "      <td>0.00000</td>\n",
       "      <td>0.000000</td>\n",
       "      <td>0.000000</td>\n",
       "      <td>0.000000</td>\n",
       "      <td>1809.000000</td>\n",
       "    </tr>\n",
       "    <tr>\n",
       "      <th>max</th>\n",
       "      <td>35190.000000</td>\n",
       "      <td>40335.000000</td>\n",
       "      <td>45320.000000</td>\n",
       "      <td>10674.030000</td>\n",
       "      <td>8285.640000</td>\n",
       "      <td>14043.060000</td>\n",
       "      <td>8362.36000</td>\n",
       "      <td>7043.980000</td>\n",
       "      <td>14007.340000</td>\n",
       "      <td>45735.400000</td>\n",
       "      <td>28144.120000</td>\n",
       "      <td>30036.06000</td>\n",
       "      <td>10285.900000</td>\n",
       "      <td>7873.550000</td>\n",
       "      <td>11117.610000</td>\n",
       "      <td>4337.000000</td>\n",
       "    </tr>\n",
       "  </tbody>\n",
       "</table>\n",
       "</div>"
      ],
      "text/plain": [
       "       total_rech_amt_6  total_rech_amt_7  total_rech_amt_8  total_og_mou_6  \\\n",
       "count      55999.000000      55999.000000      55999.000000    55999.000000   \n",
       "mean         328.837658        323.250094        324.360149      307.156598   \n",
       "std          411.573353        419.325032        438.652507      468.779236   \n",
       "min            0.000000          0.000000          0.000000        0.000000   \n",
       "25%          110.000000        100.000000         92.000000       45.050000   \n",
       "50%          230.000000        220.000000        225.000000      145.260000   \n",
       "75%          436.000000        430.000000        435.000000      373.580000   \n",
       "max        35190.000000      40335.000000      45320.000000    10674.030000   \n",
       "\n",
       "       total_og_mou_7  total_og_mou_8  offnet_mou_6  offnet_mou_7  \\\n",
       "count    55999.000000    55999.000000   55999.00000  55999.000000   \n",
       "mean       311.304441      304.143342     191.97862    190.309172   \n",
       "std        480.626876      476.732574     315.68877    319.163780   \n",
       "min          0.000000        0.000000       0.00000      0.000000   \n",
       "25%         42.830000       38.685000      28.99000     26.535000   \n",
       "50%        141.040000      137.990000      89.89000     85.780000   \n",
       "75%        382.620000      370.920000     224.85000    219.335000   \n",
       "max       8285.640000    14043.060000    8362.36000   7043.980000   \n",
       "\n",
       "       offnet_mou_8   vol_3g_mb_6   vol_3g_mb_7  vol_3g_mb_8   vol_2g_mb_6  \\\n",
       "count  55999.000000  55999.000000  55999.000000  55999.00000  55999.000000   \n",
       "mean     186.347823    122.759663    129.690618    135.68441     52.476654   \n",
       "std      318.217921    558.861009    565.420570    583.18333    215.724053   \n",
       "min        0.000000      0.000000      0.000000      0.00000      0.000000   \n",
       "25%       23.740000      0.000000      0.000000      0.00000      0.000000   \n",
       "50%       83.110000      0.000000      0.000000      0.00000      0.000000   \n",
       "75%      217.370000      0.000000      0.000000      0.00000      0.000000   \n",
       "max    14007.340000  45735.400000  28144.120000  30036.06000  10285.900000   \n",
       "\n",
       "        vol_2g_mb_7   vol_2g_mb_8           aon  \n",
       "count  55999.000000  55999.000000  55999.000000  \n",
       "mean      51.408794     50.229030   1218.776371  \n",
       "std      213.119865    216.225914    951.216674  \n",
       "min        0.000000      0.000000    180.000000  \n",
       "25%        0.000000      0.000000    468.000000  \n",
       "50%        0.000000      0.000000    867.000000  \n",
       "75%        0.000000      0.000000   1809.000000  \n",
       "max     7873.550000  11117.610000   4337.000000  "
      ]
     },
     "execution_count": 19,
     "metadata": {},
     "output_type": "execute_result"
    }
   ],
   "source": [
    "X_train_filtered.describe()"
   ]
  },
  {
   "cell_type": "markdown",
   "id": "c26214b3",
   "metadata": {
    "papermill": {
     "duration": 0.062697,
     "end_time": "2022-05-09T15:06:05.324896",
     "exception": false,
     "start_time": "2022-05-09T15:06:05.262199",
     "status": "completed"
    },
    "tags": []
   },
   "source": [
    "# 4. EDA <a id='eda'></a>"
   ]
  },
  {
   "cell_type": "markdown",
   "id": "af68d8c0",
   "metadata": {},
   "source": [
    "### --------------------------------------------------- Univariate Analysis--------------------------------------------------------"
   ]
  },
  {
   "cell_type": "markdown",
   "id": "6fe11380",
   "metadata": {},
   "source": [
    "#### Using Boxplot to do a one view split check on data"
   ]
  },
  {
   "cell_type": "code",
   "execution_count": 20,
   "id": "8d31bb61",
   "metadata": {
    "execution": {
     "iopub.execute_input": "2022-05-09T15:06:05.451105Z",
     "iopub.status.busy": "2022-05-09T15:06:05.450425Z",
     "iopub.status.idle": "2022-05-09T15:06:06.310978Z",
     "shell.execute_reply": "2022-05-09T15:06:06.310134Z"
    },
    "papermill": {
     "duration": 0.926875,
     "end_time": "2022-05-09T15:06:06.313923",
     "exception": false,
     "start_time": "2022-05-09T15:06:05.387048",
     "status": "completed"
    },
    "tags": []
   },
   "outputs": [
    {
     "data": {
      "text/plain": [
       "<AxesSubplot:>"
      ]
     },
     "execution_count": 20,
     "metadata": {},
     "output_type": "execute_result"
    },
    {
     "data": {
      "image/png": "[encoded data removed]",
      "text/plain": [
       "<Figure size 1080x576 with 1 Axes>"
      ]
     },
     "metadata": {
      "needs_background": "light"
     },
     "output_type": "display_data"
    }
   ],
   "source": [
    "plt.figure(figsize=(15,8))\n",
    "plt.xticks(rotation=45)\n",
    "sns.boxplot(data = X_train_filtered)"
   ]
  },
  {
   "cell_type": "code",
   "execution_count": 21,
   "id": "b05987ca",
   "metadata": {},
   "outputs": [
    {
     "data": {
      "image/png": "[encoded data removed]",
      "text/plain": [
       "<Figure size 432x288 with 1 Axes>"
      ]
     },
     "metadata": {},
     "output_type": "display_data"
    }
   ],
   "source": [
    "# lets find out churn/non churn percentage\n",
    "((y_train.value_counts(normalize = True)*100)).plot(kind=\"pie\")\n",
    "plt.title('Churn Probability')\n",
    "plt.show()"
   ]
  },
  {
   "cell_type": "markdown",
   "id": "ef816688",
   "metadata": {
    "papermill": {
     "duration": 0.062001,
     "end_time": "2022-05-09T15:06:06.440144",
     "exception": false,
     "start_time": "2022-05-09T15:06:06.378143",
     "status": "completed"
    },
    "tags": []
   },
   "source": [
    "### 4.1 Handling outliers\n",
    "\n",
    "The box plots of these features show there a lot of outliers. Applying <b>k-sigma</b> method for capping."
   ]
  },
  {
   "cell_type": "code",
   "execution_count": 22,
   "id": "b04c6cf1",
   "metadata": {
    "execution": {
     "iopub.execute_input": "2022-05-09T15:06:06.570894Z",
     "iopub.status.busy": "2022-05-09T15:06:06.570268Z",
     "iopub.status.idle": "2022-05-09T15:06:06.575297Z",
     "shell.execute_reply": "2022-05-09T15:06:06.574476Z"
    },
    "papermill": {
     "duration": 0.071886,
     "end_time": "2022-05-09T15:06:06.577064",
     "exception": false,
     "start_time": "2022-05-09T15:06:06.505178",
     "status": "completed"
    },
    "tags": []
   },
   "outputs": [],
   "source": [
    "def cap_outliers(array, k=3):\n",
    "    upper_limit = array.mean() + k*array.std()\n",
    "    lower_limit = array.mean() - k*array.std()\n",
    "    array[array<lower_limit] = lower_limit\n",
    "    array[array>upper_limit] = upper_limit\n",
    "    return array"
   ]
  },
  {
   "cell_type": "code",
   "execution_count": 23,
   "id": "3a715cbe",
   "metadata": {
    "execution": {
     "iopub.execute_input": "2022-05-09T15:06:06.707043Z",
     "iopub.status.busy": "2022-05-09T15:06:06.706762Z",
     "iopub.status.idle": "2022-05-09T15:06:07.651758Z",
     "shell.execute_reply": "2022-05-09T15:06:07.650914Z"
    },
    "papermill": {
     "duration": 1.011381,
     "end_time": "2022-05-09T15:06:07.653661",
     "exception": false,
     "start_time": "2022-05-09T15:06:06.642280",
     "status": "completed"
    },
    "tags": []
   },
   "outputs": [
    {
     "data": {
      "image/png": "[encoded data removed]",
      "text/plain": [
       "<Figure size 1080x576 with 1 Axes>"
      ]
     },
     "metadata": {
      "needs_background": "light"
     },
     "output_type": "display_data"
    }
   ],
   "source": [
    "X_train_filtered1 = X_train_filtered.apply(cap_outliers, axis=0)\n",
    "plt.figure(figsize=(15,8))\n",
    "plt.xticks(rotation=45)\n",
    "sns.boxplot(data = X_train_filtered1)\n",
    "plt.show()"
   ]
  },
  {
   "cell_type": "markdown",
   "id": "b58064a7",
   "metadata": {
    "papermill": {
     "duration": 0.065843,
     "end_time": "2022-05-09T15:06:07.784762",
     "exception": false,
     "start_time": "2022-05-09T15:06:07.718919",
     "status": "completed"
    },
    "tags": []
   },
   "source": [
    "### 4.2 Scaling Features"
   ]
  },
  {
   "cell_type": "code",
   "execution_count": 24,
   "id": "cdd0627b",
   "metadata": {
    "execution": {
     "iopub.execute_input": "2022-05-09T15:06:07.921125Z",
     "iopub.status.busy": "2022-05-09T15:06:07.920814Z",
     "iopub.status.idle": "2022-05-09T15:06:07.937011Z",
     "shell.execute_reply": "2022-05-09T15:06:07.936162Z"
    },
    "papermill": {
     "duration": 0.086549,
     "end_time": "2022-05-09T15:06:07.939415",
     "exception": false,
     "start_time": "2022-05-09T15:06:07.852866",
     "status": "completed"
    },
    "tags": []
   },
   "outputs": [],
   "source": [
    "scale = StandardScaler()\n",
    "X_train_filtered2 = scale.fit_transform(X_train_filtered1)"
   ]
  },
  {
   "cell_type": "code",
   "execution_count": 25,
   "id": "f5b806a4",
   "metadata": {
    "execution": {
     "iopub.execute_input": "2022-05-09T15:06:08.076239Z",
     "iopub.status.busy": "2022-05-09T15:06:08.075733Z",
     "iopub.status.idle": "2022-05-09T15:06:08.915793Z",
     "shell.execute_reply": "2022-05-09T15:06:08.914873Z"
    },
    "papermill": {
     "duration": 0.90982,
     "end_time": "2022-05-09T15:06:08.917827",
     "exception": false,
     "start_time": "2022-05-09T15:06:08.008007",
     "status": "completed"
    },
    "tags": []
   },
   "outputs": [
    {
     "data": {
      "image/png": "[encoded data removed]",
      "text/plain": [
       "<Figure size 1080x576 with 1 Axes>"
      ]
     },
     "metadata": {
      "needs_background": "light"
     },
     "output_type": "display_data"
    }
   ],
   "source": [
    "plt.figure(figsize=(15,8))\n",
    "plt.xticks(rotation=45)\n",
    "sns.boxplot(data = pd.DataFrame(X_train_filtered2, columns=new_vars))\n",
    "plt.show()"
   ]
  },
  {
   "cell_type": "markdown",
   "id": "ec11b5a0",
   "metadata": {},
   "source": [
    "### ---------------------------------------------------- Bivariate Analysis--------------------------------------------------------"
   ]
  },
  {
   "cell_type": "code",
   "execution_count": 26,
   "id": "ddd8fcbd",
   "metadata": {},
   "outputs": [],
   "source": [
    "#Creating a replicated data for visualization\n",
    "data_cpy = data.copy()"
   ]
  },
  {
   "cell_type": "code",
   "execution_count": 27,
   "id": "279412d4",
   "metadata": {},
   "outputs": [],
   "source": [
    "# creating a new variable 'tenure'\n",
    "data_cpy['tenure'] = (data_cpy['aon']/30).round(0)\n",
    "\n",
    "# Since we derived a new column from 'aon', we can drop it\n",
    "data_cpy.drop('aon',axis=1, inplace=True)"
   ]
  },
  {
   "cell_type": "code",
   "execution_count": 28,
   "id": "9cbf59f7",
   "metadata": {},
   "outputs": [
    {
     "data": {
      "image/png": "[encoded data removed]",
      "text/plain": [
       "<Figure size 432x288 with 1 Axes>"
      ]
     },
     "metadata": {
      "needs_background": "light"
     },
     "output_type": "display_data"
    }
   ],
   "source": [
    "# Checking the distribution of he tenure variable\n",
    "\n",
    "sns.distplot(data_cpy['tenure'],bins=30)\n",
    "plt.show()"
   ]
  },
  {
   "cell_type": "markdown",
   "id": "29404c04",
   "metadata": {},
   "source": [
    "`Most of the Tenure is around 5-40 months`"
   ]
  },
  {
   "cell_type": "markdown",
   "id": "92c8e471",
   "metadata": {},
   "source": [
    "#### Clustering Tenure to gather more visuals"
   ]
  },
  {
   "cell_type": "code",
   "execution_count": 29,
   "id": "3ae1276d",
   "metadata": {},
   "outputs": [
    {
     "data": {
      "text/plain": [
       "id\n",
       "0        NaN\n",
       "1    1-2 Yrs\n",
       "2    2-5 Yrs\n",
       "3    2-5 Yrs\n",
       "4    1-2 Yrs\n",
       "Name: tenure_range, dtype: category\n",
       "Categories (5, object): ['1-6 Months' < '6-12 Months' < '1-2 Yrs' < '2-5 Yrs' < '5 Yrs and above']"
      ]
     },
     "execution_count": 29,
     "metadata": {},
     "output_type": "execute_result"
    }
   ],
   "source": [
    "tn_range = [1, 6, 12, 24, 60, 61]\n",
    "tn_label = [ '1-6 Months', '6-12 Months', '1-2 Yrs', '2-5 Yrs', '5 Yrs and above']\n",
    "data_cpy['tenure_range'] = pd.cut(data_cpy['tenure'], tn_range, labels=tn_label)\n",
    "data_cpy['tenure_range'].head()"
   ]
  },
  {
   "cell_type": "code",
   "execution_count": 30,
   "id": "3f539f27",
   "metadata": {},
   "outputs": [
    {
     "data": {
      "image/png": "[encoded data removed]",
      "text/plain": [
       "<Figure size 864x504 with 1 Axes>"
      ]
     },
     "metadata": {
      "needs_background": "light"
     },
     "output_type": "display_data"
    }
   ],
   "source": [
    "#Visualizing Tenure\n",
    "plt.figure(figsize=[12,7])\n",
    "sns.barplot(\n",
    "    data=data_cpy, x=\"tenure_range\", y=\"churn_probability\",\n",
    "    capsize=.4, errcolor=\".5\",\n",
    "    linewidth=3, edgecolor=\".5\", facecolor=(0, 0, 0, 0),\n",
    ")\n",
    "plt.xlabel('Tenure Range')\n",
    "plt.ylabel('Churn Prob')\n",
    "plt.title('Tenure V/s Churn Probability')\n",
    "plt.show()"
   ]
  },
  {
   "cell_type": "code",
   "execution_count": 31,
   "id": "346d5d9d",
   "metadata": {
    "execution": {
     "iopub.execute_input": "2022-05-09T15:06:09.191740Z",
     "iopub.status.busy": "2022-05-09T15:06:09.191484Z",
     "iopub.status.idle": "2022-05-09T15:06:09.664365Z",
     "shell.execute_reply": "2022-05-09T15:06:09.663773Z"
    },
    "papermill": {
     "duration": 0.544676,
     "end_time": "2022-05-09T15:06:09.666199",
     "exception": false,
     "start_time": "2022-05-09T15:06:09.121523",
     "status": "completed"
    },
    "tags": []
   },
   "outputs": [
    {
     "data": {
      "image/png": "[encoded data removed]",
      "text/plain": [
       "<Figure size 1296x1008 with 2 Axes>"
      ]
     },
     "metadata": {
      "needs_background": "light"
     },
     "output_type": "display_data"
    }
   ],
   "source": [
    "#Understanding Correlations within data\n",
    "plt.figure(figsize=(18,14))\n",
    "sns.heatmap(pd.DataFrame(X_train_filtered2, columns=new_vars).corr(),annot = True)\n",
    "plt.show()"
   ]
  },
  {
   "cell_type": "markdown",
   "id": "4ef86422",
   "metadata": {
    "papermill": {
     "duration": 0.069781,
     "end_time": "2022-05-09T15:06:10.202637",
     "exception": false,
     "start_time": "2022-05-09T15:06:10.132856",
     "status": "completed"
    },
    "tags": []
   },
   "source": [
    "# 5. Deducing Feature Importance  <a id= feature_imp ></a>"
   ]
  },
  {
   "cell_type": "markdown",
   "id": "ad6ae9d8",
   "metadata": {},
   "source": [
    "Performing a random forest classification with 100 estimators for starters (100 being a random number)"
   ]
  },
  {
   "cell_type": "code",
   "execution_count": 32,
   "id": "e63ee37e",
   "metadata": {
    "execution": {
     "iopub.execute_input": "2022-05-09T15:06:10.344557Z",
     "iopub.status.busy": "2022-05-09T15:06:10.344034Z",
     "iopub.status.idle": "2022-05-09T15:06:17.813721Z",
     "shell.execute_reply": "2022-05-09T15:06:17.812893Z"
    },
    "papermill": {
     "duration": 7.543665,
     "end_time": "2022-05-09T15:06:17.815867",
     "exception": false,
     "start_time": "2022-05-09T15:06:10.272202",
     "status": "completed"
    },
    "tags": []
   },
   "outputs": [
    {
     "data": {
      "text/html": [
       "<style>#sk-container-id-1 {color: black;}#sk-container-id-1 pre{padding: 0;}#sk-container-id-1 div.sk-toggleable {background-color: white;}#sk-container-id-1 label.sk-toggleable__label {cursor: pointer;display: block;width: 100%;margin-bottom: 0;padding: 0.3em;box-sizing: border-box;text-align: center;}#sk-container-id-1 label.sk-toggleable__label-arrow:before {content: \"▸\";float: left;margin-right: 0.25em;color: #696969;}#sk-container-id-1 label.sk-toggleable__label-arrow:hover:before {color: black;}#sk-container-id-1 div.sk-estimator:hover label.sk-toggleable__label-arrow:before {color: black;}#sk-container-id-1 div.sk-toggleable__content {max-height: 0;max-width: 0;overflow: hidden;text-align: left;background-color: #f0f8ff;}#sk-container-id-1 div.sk-toggleable__content pre {margin: 0.2em;color: black;border-radius: 0.25em;background-color: #f0f8ff;}#sk-container-id-1 input.sk-toggleable__control:checked~div.sk-toggleable__content {max-height: 200px;max-width: 100%;overflow: auto;}#sk-container-id-1 input.sk-toggleable__control:checked~label.sk-toggleable__label-arrow:before {content: \"▾\";}#sk-container-id-1 div.sk-estimator input.sk-toggleable__control:checked~label.sk-toggleable__label {background-color: #d4ebff;}#sk-container-id-1 div.sk-label input.sk-toggleable__control:checked~label.sk-toggleable__label {background-color: #d4ebff;}#sk-container-id-1 input.sk-hidden--visually {border: 0;clip: rect(1px 1px 1px 1px);clip: rect(1px, 1px, 1px, 1px);height: 1px;margin: -1px;overflow: hidden;padding: 0;position: absolute;width: 1px;}#sk-container-id-1 div.sk-estimator {font-family: monospace;background-color: #f0f8ff;border: 1px dotted black;border-radius: 0.25em;box-sizing: border-box;margin-bottom: 0.5em;}#sk-container-id-1 div.sk-estimator:hover {background-color: #d4ebff;}#sk-container-id-1 div.sk-parallel-item::after {content: \"\";width: 100%;border-bottom: 1px solid gray;flex-grow: 1;}#sk-container-id-1 div.sk-label:hover label.sk-toggleable__label {background-color: #d4ebff;}#sk-container-id-1 div.sk-serial::before {content: \"\";position: absolute;border-left: 1px solid gray;box-sizing: border-box;top: 0;bottom: 0;left: 50%;z-index: 0;}#sk-container-id-1 div.sk-serial {display: flex;flex-direction: column;align-items: center;background-color: white;padding-right: 0.2em;padding-left: 0.2em;position: relative;}#sk-container-id-1 div.sk-item {position: relative;z-index: 1;}#sk-container-id-1 div.sk-parallel {display: flex;align-items: stretch;justify-content: center;background-color: white;position: relative;}#sk-container-id-1 div.sk-item::before, #sk-container-id-1 div.sk-parallel-item::before {content: \"\";position: absolute;border-left: 1px solid gray;box-sizing: border-box;top: 0;bottom: 0;left: 50%;z-index: -1;}#sk-container-id-1 div.sk-parallel-item {display: flex;flex-direction: column;z-index: 1;position: relative;background-color: white;}#sk-container-id-1 div.sk-parallel-item:first-child::after {align-self: flex-end;width: 50%;}#sk-container-id-1 div.sk-parallel-item:last-child::after {align-self: flex-start;width: 50%;}#sk-container-id-1 div.sk-parallel-item:only-child::after {width: 0;}#sk-container-id-1 div.sk-dashed-wrapped {border: 1px dashed gray;margin: 0 0.4em 0.5em 0.4em;box-sizing: border-box;padding-bottom: 0.4em;background-color: white;}#sk-container-id-1 div.sk-label label {font-family: monospace;font-weight: bold;display: inline-block;line-height: 1.2em;}#sk-container-id-1 div.sk-label-container {text-align: center;}#sk-container-id-1 div.sk-container {/* jupyter's `normalize.less` sets `[hidden] { display: none; }` but bootstrap.min.css set `[hidden] { display: none !important; }` so we also need the `!important` here to be able to override the default hidden behavior on the sphinx rendered scikit-learn.org. See: https://github.com/scikit-learn/scikit-learn/issues/21755 */display: inline-block !important;position: relative;}#sk-container-id-1 div.sk-text-repr-fallback {display: none;}</style><div id=\"sk-container-id-1\" class=\"sk-top-container\"><div class=\"sk-text-repr-fallback\"><pre>RandomForestClassifier(n_jobs=-1)</pre><b>In a Jupyter environment, please rerun this cell to show the HTML representation or trust the notebook. <br />On GitHub, the HTML representation is unable to render, please try loading this page with nbviewer.org.</b></div><div class=\"sk-container\" hidden><div class=\"sk-item\"><div class=\"sk-estimator sk-toggleable\"><input class=\"sk-toggleable__control sk-hidden--visually\" id=\"sk-estimator-id-1\" type=\"checkbox\" checked><label for=\"sk-estimator-id-1\" class=\"sk-toggleable__label sk-toggleable__label-arrow\">RandomForestClassifier</label><div class=\"sk-toggleable__content\"><pre>RandomForestClassifier(n_jobs=-1)</pre></div></div></div></div></div>"
      ],
      "text/plain": [
       "RandomForestClassifier(n_jobs=-1)"
      ]
     },
     "execution_count": 32,
     "metadata": {},
     "output_type": "execute_result"
    }
   ],
   "source": [
    "rf = RandomForestClassifier(n_estimators=100, n_jobs=-1)\n",
    "rf.fit(X_train_filtered2, y_train)"
   ]
  },
  {
   "cell_type": "code",
   "execution_count": 33,
   "id": "3bf14484",
   "metadata": {
    "execution": {
     "iopub.execute_input": "2022-05-09T15:06:17.955494Z",
     "iopub.status.busy": "2022-05-09T15:06:17.954544Z",
     "iopub.status.idle": "2022-05-09T15:06:18.062323Z",
     "shell.execute_reply": "2022-05-09T15:06:18.061546Z"
    },
    "papermill": {
     "duration": 0.179348,
     "end_time": "2022-05-09T15:06:18.064457",
     "exception": false,
     "start_time": "2022-05-09T15:06:17.885109",
     "status": "completed"
    },
    "tags": []
   },
   "outputs": [],
   "source": [
    "feature_importances = pd.DataFrame({'col':new_vars, 'importance':rf.feature_importances_})"
   ]
  },
  {
   "cell_type": "code",
   "execution_count": 34,
   "id": "a328fe6e",
   "metadata": {},
   "outputs": [
    {
     "data": {
      "image/png": "[encoded data removed]",
      "text/plain": [
       "<Figure size 1080x576 with 1 Axes>"
      ]
     },
     "metadata": {
      "needs_background": "light"
     },
     "output_type": "display_data"
    }
   ],
   "source": [
    "plt.figure(figsize=(15,8))\n",
    "plt.xticks(rotation=45)\n",
    "sns.barplot(feature_importances['col'], feature_importances['importance'])\n",
    "plt.title('Feature Importance')\n",
    "plt.show()"
   ]
  },
  {
   "cell_type": "markdown",
   "id": "f532cbae",
   "metadata": {
    "papermill": {
     "duration": 0.070112,
     "end_time": "2022-05-09T15:06:18.588473",
     "exception": false,
     "start_time": "2022-05-09T15:06:18.518361",
     "status": "completed"
    },
    "tags": []
   },
   "source": [
    "`Projecting them into a lower dimensional space using PCA.`"
   ]
  },
  {
   "cell_type": "code",
   "execution_count": 35,
   "id": "d271c5dc",
   "metadata": {
    "execution": {
     "iopub.execute_input": "2022-05-09T15:06:18.734528Z",
     "iopub.status.busy": "2022-05-09T15:06:18.733774Z",
     "iopub.status.idle": "2022-05-09T15:06:23.012781Z",
     "shell.execute_reply": "2022-05-09T15:06:23.011914Z"
    },
    "papermill": {
     "duration": 4.355343,
     "end_time": "2022-05-09T15:06:23.015892",
     "exception": false,
     "start_time": "2022-05-09T15:06:18.660549",
     "status": "completed"
    },
    "tags": []
   },
   "outputs": [
    {
     "data": {
      "image/png": "[encoded data removed]",
      "text/plain": [
       "<Figure size 432x288 with 1 Axes>"
      ]
     },
     "metadata": {
      "needs_background": "light"
     },
     "output_type": "display_data"
    }
   ],
   "source": [
    "pca = PCA()\n",
    "pca_components = pca.fit_transform(X_train_filtered2)\n",
    "sns.scatterplot(x=pca_components[:,0], y=pca_components[:,1], hue=y_train, palette= 'viridis')\n",
    "plt.show()"
   ]
  },
  {
   "cell_type": "code",
   "execution_count": 36,
   "id": "85173f6c",
   "metadata": {
    "execution": {
     "iopub.execute_input": "2022-05-09T15:06:23.171742Z",
     "iopub.status.busy": "2022-05-09T15:06:23.171482Z",
     "iopub.status.idle": "2022-05-09T15:06:25.702553Z",
     "shell.execute_reply": "2022-05-09T15:06:25.701954Z"
    },
    "papermill": {
     "duration": 2.611911,
     "end_time": "2022-05-09T15:06:25.705291",
     "exception": false,
     "start_time": "2022-05-09T15:06:23.093380",
     "status": "completed"
    },
    "tags": []
   },
   "outputs": [
    {
     "data": {
      "image/png": "[encoded data removed]",
      "text/plain": [
       "<Figure size 432x288 with 1 Axes>"
      ]
     },
     "metadata": {
      "needs_background": "light"
     },
     "output_type": "display_data"
    }
   ],
   "source": [
    "sns.scatterplot(x=pca_components[:,1], y=pca_components[:,2], hue=y_train, palette= 'viridis')\n",
    "plt.show()"
   ]
  },
  {
   "cell_type": "markdown",
   "id": "b4879b52",
   "metadata": {
    "papermill": {
     "duration": 0.078212,
     "end_time": "2022-05-09T15:06:25.861004",
     "exception": false,
     "start_time": "2022-05-09T15:06:25.782792",
     "status": "completed"
    },
    "tags": []
   },
   "source": [
    "Understand which of the components have high feature importance."
   ]
  },
  {
   "cell_type": "code",
   "execution_count": 37,
   "id": "b8f060a4",
   "metadata": {
    "execution": {
     "iopub.execute_input": "2022-05-09T15:06:26.020942Z",
     "iopub.status.busy": "2022-05-09T15:06:26.020500Z",
     "iopub.status.idle": "2022-05-09T15:06:39.403289Z",
     "shell.execute_reply": "2022-05-09T15:06:39.402344Z"
    },
    "papermill": {
     "duration": 13.465043,
     "end_time": "2022-05-09T15:06:39.405401",
     "exception": false,
     "start_time": "2022-05-09T15:06:25.940358",
     "status": "completed"
    },
    "tags": []
   },
   "outputs": [
    {
     "data": {
      "image/png": "[encoded data removed]",
      "text/plain": [
       "<Figure size 1080x576 with 1 Axes>"
      ]
     },
     "metadata": {
      "needs_background": "light"
     },
     "output_type": "display_data"
    }
   ],
   "source": [
    "rf = RandomForestClassifier(n_estimators=100, n_jobs=-1)\n",
    "rf.fit(pca_components, y_train)\n",
    "\n",
    "feature_importances = pd.DataFrame({'col':['component_'+str(i) for i in range(16)], \n",
    "                                    'importance':rf.feature_importances_})\n",
    "\n",
    "plt.figure(figsize=(15,8))\n",
    "plt.xticks(rotation=45)\n",
    "sns.barplot(feature_importances['col'], feature_importances['importance'])\n",
    "plt.show()"
   ]
  },
  {
   "cell_type": "markdown",
   "id": "0d262b28",
   "metadata": {
    "papermill": {
     "duration": 0.079847,
     "end_time": "2022-05-09T15:06:39.565976",
     "exception": false,
     "start_time": "2022-05-09T15:06:39.486129",
     "status": "completed"
    },
    "tags": []
   },
   "source": [
    "# 6. Model building <a id='model_build'></a>"
   ]
  },
  {
   "cell_type": "markdown",
   "id": "32893b1b",
   "metadata": {},
   "source": [
    "Logistic model is a good starting point"
   ]
  },
  {
   "cell_type": "code",
   "execution_count": 38,
   "id": "391af5c8",
   "metadata": {
    "execution": {
     "iopub.execute_input": "2022-05-09T15:06:39.731122Z",
     "iopub.status.busy": "2022-05-09T15:06:39.730839Z",
     "iopub.status.idle": "2022-05-09T15:06:39.856596Z",
     "shell.execute_reply": "2022-05-09T15:06:39.855973Z"
    },
    "papermill": {
     "duration": 0.213871,
     "end_time": "2022-05-09T15:06:39.858419",
     "exception": false,
     "start_time": "2022-05-09T15:06:39.644548",
     "status": "completed"
    },
    "tags": []
   },
   "outputs": [
    {
     "data": {
      "text/html": [
       "<style>#sk-container-id-2 {color: black;}#sk-container-id-2 pre{padding: 0;}#sk-container-id-2 div.sk-toggleable {background-color: white;}#sk-container-id-2 label.sk-toggleable__label {cursor: pointer;display: block;width: 100%;margin-bottom: 0;padding: 0.3em;box-sizing: border-box;text-align: center;}#sk-container-id-2 label.sk-toggleable__label-arrow:before {content: \"▸\";float: left;margin-right: 0.25em;color: #696969;}#sk-container-id-2 label.sk-toggleable__label-arrow:hover:before {color: black;}#sk-container-id-2 div.sk-estimator:hover label.sk-toggleable__label-arrow:before {color: black;}#sk-container-id-2 div.sk-toggleable__content {max-height: 0;max-width: 0;overflow: hidden;text-align: left;background-color: #f0f8ff;}#sk-container-id-2 div.sk-toggleable__content pre {margin: 0.2em;color: black;border-radius: 0.25em;background-color: #f0f8ff;}#sk-container-id-2 input.sk-toggleable__control:checked~div.sk-toggleable__content {max-height: 200px;max-width: 100%;overflow: auto;}#sk-container-id-2 input.sk-toggleable__control:checked~label.sk-toggleable__label-arrow:before {content: \"▾\";}#sk-container-id-2 div.sk-estimator input.sk-toggleable__control:checked~label.sk-toggleable__label {background-color: #d4ebff;}#sk-container-id-2 div.sk-label input.sk-toggleable__control:checked~label.sk-toggleable__label {background-color: #d4ebff;}#sk-container-id-2 input.sk-hidden--visually {border: 0;clip: rect(1px 1px 1px 1px);clip: rect(1px, 1px, 1px, 1px);height: 1px;margin: -1px;overflow: hidden;padding: 0;position: absolute;width: 1px;}#sk-container-id-2 div.sk-estimator {font-family: monospace;background-color: #f0f8ff;border: 1px dotted black;border-radius: 0.25em;box-sizing: border-box;margin-bottom: 0.5em;}#sk-container-id-2 div.sk-estimator:hover {background-color: #d4ebff;}#sk-container-id-2 div.sk-parallel-item::after {content: \"\";width: 100%;border-bottom: 1px solid gray;flex-grow: 1;}#sk-container-id-2 div.sk-label:hover label.sk-toggleable__label {background-color: #d4ebff;}#sk-container-id-2 div.sk-serial::before {content: \"\";position: absolute;border-left: 1px solid gray;box-sizing: border-box;top: 0;bottom: 0;left: 50%;z-index: 0;}#sk-container-id-2 div.sk-serial {display: flex;flex-direction: column;align-items: center;background-color: white;padding-right: 0.2em;padding-left: 0.2em;position: relative;}#sk-container-id-2 div.sk-item {position: relative;z-index: 1;}#sk-container-id-2 div.sk-parallel {display: flex;align-items: stretch;justify-content: center;background-color: white;position: relative;}#sk-container-id-2 div.sk-item::before, #sk-container-id-2 div.sk-parallel-item::before {content: \"\";position: absolute;border-left: 1px solid gray;box-sizing: border-box;top: 0;bottom: 0;left: 50%;z-index: -1;}#sk-container-id-2 div.sk-parallel-item {display: flex;flex-direction: column;z-index: 1;position: relative;background-color: white;}#sk-container-id-2 div.sk-parallel-item:first-child::after {align-self: flex-end;width: 50%;}#sk-container-id-2 div.sk-parallel-item:last-child::after {align-self: flex-start;width: 50%;}#sk-container-id-2 div.sk-parallel-item:only-child::after {width: 0;}#sk-container-id-2 div.sk-dashed-wrapped {border: 1px dashed gray;margin: 0 0.4em 0.5em 0.4em;box-sizing: border-box;padding-bottom: 0.4em;background-color: white;}#sk-container-id-2 div.sk-label label {font-family: monospace;font-weight: bold;display: inline-block;line-height: 1.2em;}#sk-container-id-2 div.sk-label-container {text-align: center;}#sk-container-id-2 div.sk-container {/* jupyter's `normalize.less` sets `[hidden] { display: none; }` but bootstrap.min.css set `[hidden] { display: none !important; }` so we also need the `!important` here to be able to override the default hidden behavior on the sphinx rendered scikit-learn.org. See: https://github.com/scikit-learn/scikit-learn/issues/21755 */display: inline-block !important;position: relative;}#sk-container-id-2 div.sk-text-repr-fallback {display: none;}</style><div id=\"sk-container-id-2\" class=\"sk-top-container\"><div class=\"sk-text-repr-fallback\"><pre>LogisticRegression(max_iter=1000, solver=&#x27;sag&#x27;, tol=0.001)</pre><b>In a Jupyter environment, please rerun this cell to show the HTML representation or trust the notebook. <br />On GitHub, the HTML representation is unable to render, please try loading this page with nbviewer.org.</b></div><div class=\"sk-container\" hidden><div class=\"sk-item\"><div class=\"sk-estimator sk-toggleable\"><input class=\"sk-toggleable__control sk-hidden--visually\" id=\"sk-estimator-id-2\" type=\"checkbox\" checked><label for=\"sk-estimator-id-2\" class=\"sk-toggleable__label sk-toggleable__label-arrow\">LogisticRegression</label><div class=\"sk-toggleable__content\"><pre>LogisticRegression(max_iter=1000, solver=&#x27;sag&#x27;, tol=0.001)</pre></div></div></div></div></div>"
      ],
      "text/plain": [
       "LogisticRegression(max_iter=1000, solver='sag', tol=0.001)"
      ]
     },
     "execution_count": 38,
     "metadata": {},
     "output_type": "execute_result"
    }
   ],
   "source": [
    "lr = LogisticRegression(max_iter=1000, tol=0.001, solver='sag')\n",
    "lr.fit(pca_components[:,:2], y_train)"
   ]
  },
  {
   "cell_type": "code",
   "execution_count": 39,
   "id": "b41f0dd0",
   "metadata": {
    "execution": {
     "iopub.execute_input": "2022-05-09T15:06:40.019862Z",
     "iopub.status.busy": "2022-05-09T15:06:40.019094Z",
     "iopub.status.idle": "2022-05-09T15:06:40.037469Z",
     "shell.execute_reply": "2022-05-09T15:06:40.036376Z"
    },
    "papermill": {
     "duration": 0.102701,
     "end_time": "2022-05-09T15:06:40.040355",
     "exception": false,
     "start_time": "2022-05-09T15:06:39.937654",
     "status": "completed"
    },
    "tags": []
   },
   "outputs": [
    {
     "data": {
      "text/plain": [
       "0.8983374703119699"
      ]
     },
     "execution_count": 39,
     "metadata": {},
     "output_type": "execute_result"
    }
   ],
   "source": [
    "lr.score(pca_components[:,:2], y_train)"
   ]
  },
  {
   "cell_type": "markdown",
   "id": "f7e778eb",
   "metadata": {},
   "source": [
    "`Build a pipeline to fit and score the model faster.`"
   ]
  },
  {
   "cell_type": "code",
   "execution_count": 40,
   "id": "a992ce5f",
   "metadata": {
    "execution": {
     "iopub.execute_input": "2022-05-09T15:06:40.418466Z",
     "iopub.status.busy": "2022-05-09T15:06:40.418204Z",
     "iopub.status.idle": "2022-05-09T15:06:40.423047Z",
     "shell.execute_reply": "2022-05-09T15:06:40.422156Z"
    },
    "papermill": {
     "duration": 0.086755,
     "end_time": "2022-05-09T15:06:40.424865",
     "exception": false,
     "start_time": "2022-05-09T15:06:40.338110",
     "status": "completed"
    },
    "tags": []
   },
   "outputs": [],
   "source": [
    "imp = SimpleImputer(strategy='constant', fill_value=0)\n",
    "scale = StandardScaler()\n",
    "pca = PCA(n_components=10)\n",
    "lr = LogisticRegression(max_iter=1000, tol=0.001)"
   ]
  },
  {
   "cell_type": "code",
   "execution_count": 41,
   "id": "c8dc16fb",
   "metadata": {
    "execution": {
     "iopub.execute_input": "2022-05-09T15:06:40.587673Z",
     "iopub.status.busy": "2022-05-09T15:06:40.587387Z",
     "iopub.status.idle": "2022-05-09T15:06:40.591901Z",
     "shell.execute_reply": "2022-05-09T15:06:40.591023Z"
    },
    "papermill": {
     "duration": 0.088835,
     "end_time": "2022-05-09T15:06:40.593860",
     "exception": false,
     "start_time": "2022-05-09T15:06:40.505025",
     "status": "completed"
    },
    "tags": []
   },
   "outputs": [],
   "source": [
    "pipe = Pipeline(steps = [('imputation',imp),\n",
    "                         ('scaling',scale),\n",
    "                         ('pca',pca),\n",
    "                         ('model',lr)])"
   ]
  },
  {
   "cell_type": "code",
   "execution_count": 42,
   "id": "06046f90",
   "metadata": {
    "execution": {
     "iopub.execute_input": "2022-05-09T15:06:40.756848Z",
     "iopub.status.busy": "2022-05-09T15:06:40.756562Z",
     "iopub.status.idle": "2022-05-09T15:06:41.265282Z",
     "shell.execute_reply": "2022-05-09T15:06:41.264367Z"
    },
    "papermill": {
     "duration": 0.594306,
     "end_time": "2022-05-09T15:06:41.268254",
     "exception": false,
     "start_time": "2022-05-09T15:06:40.673948",
     "status": "completed"
    },
    "tags": []
   },
   "outputs": [
    {
     "data": {
      "text/html": [
       "<style>#sk-container-id-3 {color: black;}#sk-container-id-3 pre{padding: 0;}#sk-container-id-3 div.sk-toggleable {background-color: white;}#sk-container-id-3 label.sk-toggleable__label {cursor: pointer;display: block;width: 100%;margin-bottom: 0;padding: 0.3em;box-sizing: border-box;text-align: center;}#sk-container-id-3 label.sk-toggleable__label-arrow:before {content: \"▸\";float: left;margin-right: 0.25em;color: #696969;}#sk-container-id-3 label.sk-toggleable__label-arrow:hover:before {color: black;}#sk-container-id-3 div.sk-estimator:hover label.sk-toggleable__label-arrow:before {color: black;}#sk-container-id-3 div.sk-toggleable__content {max-height: 0;max-width: 0;overflow: hidden;text-align: left;background-color: #f0f8ff;}#sk-container-id-3 div.sk-toggleable__content pre {margin: 0.2em;color: black;border-radius: 0.25em;background-color: #f0f8ff;}#sk-container-id-3 input.sk-toggleable__control:checked~div.sk-toggleable__content {max-height: 200px;max-width: 100%;overflow: auto;}#sk-container-id-3 input.sk-toggleable__control:checked~label.sk-toggleable__label-arrow:before {content: \"▾\";}#sk-container-id-3 div.sk-estimator input.sk-toggleable__control:checked~label.sk-toggleable__label {background-color: #d4ebff;}#sk-container-id-3 div.sk-label input.sk-toggleable__control:checked~label.sk-toggleable__label {background-color: #d4ebff;}#sk-container-id-3 input.sk-hidden--visually {border: 0;clip: rect(1px 1px 1px 1px);clip: rect(1px, 1px, 1px, 1px);height: 1px;margin: -1px;overflow: hidden;padding: 0;position: absolute;width: 1px;}#sk-container-id-3 div.sk-estimator {font-family: monospace;background-color: #f0f8ff;border: 1px dotted black;border-radius: 0.25em;box-sizing: border-box;margin-bottom: 0.5em;}#sk-container-id-3 div.sk-estimator:hover {background-color: #d4ebff;}#sk-container-id-3 div.sk-parallel-item::after {content: \"\";width: 100%;border-bottom: 1px solid gray;flex-grow: 1;}#sk-container-id-3 div.sk-label:hover label.sk-toggleable__label {background-color: #d4ebff;}#sk-container-id-3 div.sk-serial::before {content: \"\";position: absolute;border-left: 1px solid gray;box-sizing: border-box;top: 0;bottom: 0;left: 50%;z-index: 0;}#sk-container-id-3 div.sk-serial {display: flex;flex-direction: column;align-items: center;background-color: white;padding-right: 0.2em;padding-left: 0.2em;position: relative;}#sk-container-id-3 div.sk-item {position: relative;z-index: 1;}#sk-container-id-3 div.sk-parallel {display: flex;align-items: stretch;justify-content: center;background-color: white;position: relative;}#sk-container-id-3 div.sk-item::before, #sk-container-id-3 div.sk-parallel-item::before {content: \"\";position: absolute;border-left: 1px solid gray;box-sizing: border-box;top: 0;bottom: 0;left: 50%;z-index: -1;}#sk-container-id-3 div.sk-parallel-item {display: flex;flex-direction: column;z-index: 1;position: relative;background-color: white;}#sk-container-id-3 div.sk-parallel-item:first-child::after {align-self: flex-end;width: 50%;}#sk-container-id-3 div.sk-parallel-item:last-child::after {align-self: flex-start;width: 50%;}#sk-container-id-3 div.sk-parallel-item:only-child::after {width: 0;}#sk-container-id-3 div.sk-dashed-wrapped {border: 1px dashed gray;margin: 0 0.4em 0.5em 0.4em;box-sizing: border-box;padding-bottom: 0.4em;background-color: white;}#sk-container-id-3 div.sk-label label {font-family: monospace;font-weight: bold;display: inline-block;line-height: 1.2em;}#sk-container-id-3 div.sk-label-container {text-align: center;}#sk-container-id-3 div.sk-container {/* jupyter's `normalize.less` sets `[hidden] { display: none; }` but bootstrap.min.css set `[hidden] { display: none !important; }` so we also need the `!important` here to be able to override the default hidden behavior on the sphinx rendered scikit-learn.org. See: https://github.com/scikit-learn/scikit-learn/issues/21755 */display: inline-block !important;position: relative;}#sk-container-id-3 div.sk-text-repr-fallback {display: none;}</style><div id=\"sk-container-id-3\" class=\"sk-top-container\"><div class=\"sk-text-repr-fallback\"><pre>Pipeline(steps=[(&#x27;imputation&#x27;,\n",
       "                 SimpleImputer(fill_value=0, strategy=&#x27;constant&#x27;)),\n",
       "                (&#x27;scaling&#x27;, StandardScaler()), (&#x27;pca&#x27;, PCA(n_components=10)),\n",
       "                (&#x27;model&#x27;, LogisticRegression(max_iter=1000, tol=0.001))])</pre><b>In a Jupyter environment, please rerun this cell to show the HTML representation or trust the notebook. <br />On GitHub, the HTML representation is unable to render, please try loading this page with nbviewer.org.</b></div><div class=\"sk-container\" hidden><div class=\"sk-item sk-dashed-wrapped\"><div class=\"sk-label-container\"><div class=\"sk-label sk-toggleable\"><input class=\"sk-toggleable__control sk-hidden--visually\" id=\"sk-estimator-id-3\" type=\"checkbox\" ><label for=\"sk-estimator-id-3\" class=\"sk-toggleable__label sk-toggleable__label-arrow\">Pipeline</label><div class=\"sk-toggleable__content\"><pre>Pipeline(steps=[(&#x27;imputation&#x27;,\n",
       "                 SimpleImputer(fill_value=0, strategy=&#x27;constant&#x27;)),\n",
       "                (&#x27;scaling&#x27;, StandardScaler()), (&#x27;pca&#x27;, PCA(n_components=10)),\n",
       "                (&#x27;model&#x27;, LogisticRegression(max_iter=1000, tol=0.001))])</pre></div></div></div><div class=\"sk-serial\"><div class=\"sk-item\"><div class=\"sk-estimator sk-toggleable\"><input class=\"sk-toggleable__control sk-hidden--visually\" id=\"sk-estimator-id-4\" type=\"checkbox\" ><label for=\"sk-estimator-id-4\" class=\"sk-toggleable__label sk-toggleable__label-arrow\">SimpleImputer</label><div class=\"sk-toggleable__content\"><pre>SimpleImputer(fill_value=0, strategy=&#x27;constant&#x27;)</pre></div></div></div><div class=\"sk-item\"><div class=\"sk-estimator sk-toggleable\"><input class=\"sk-toggleable__control sk-hidden--visually\" id=\"sk-estimator-id-5\" type=\"checkbox\" ><label for=\"sk-estimator-id-5\" class=\"sk-toggleable__label sk-toggleable__label-arrow\">StandardScaler</label><div class=\"sk-toggleable__content\"><pre>StandardScaler()</pre></div></div></div><div class=\"sk-item\"><div class=\"sk-estimator sk-toggleable\"><input class=\"sk-toggleable__control sk-hidden--visually\" id=\"sk-estimator-id-6\" type=\"checkbox\" ><label for=\"sk-estimator-id-6\" class=\"sk-toggleable__label sk-toggleable__label-arrow\">PCA</label><div class=\"sk-toggleable__content\"><pre>PCA(n_components=10)</pre></div></div></div><div class=\"sk-item\"><div class=\"sk-estimator sk-toggleable\"><input class=\"sk-toggleable__control sk-hidden--visually\" id=\"sk-estimator-id-7\" type=\"checkbox\" ><label for=\"sk-estimator-id-7\" class=\"sk-toggleable__label sk-toggleable__label-arrow\">LogisticRegression</label><div class=\"sk-toggleable__content\"><pre>LogisticRegression(max_iter=1000, tol=0.001)</pre></div></div></div></div></div></div></div>"
      ],
      "text/plain": [
       "Pipeline(steps=[('imputation',\n",
       "                 SimpleImputer(fill_value=0, strategy='constant')),\n",
       "                ('scaling', StandardScaler()), ('pca', PCA(n_components=10)),\n",
       "                ('model', LogisticRegression(max_iter=1000, tol=0.001))])"
      ]
     },
     "execution_count": 42,
     "metadata": {},
     "output_type": "execute_result"
    }
   ],
   "source": [
    "pipe.fit(X_train[new_vars], y_train)"
   ]
  },
  {
   "cell_type": "code",
   "execution_count": 43,
   "id": "4da7ee2f",
   "metadata": {
    "execution": {
     "iopub.execute_input": "2022-05-09T15:06:41.487390Z",
     "iopub.status.busy": "2022-05-09T15:06:41.487093Z",
     "iopub.status.idle": "2022-05-09T15:06:41.528598Z",
     "shell.execute_reply": "2022-05-09T15:06:41.527695Z"
    },
    "papermill": {
     "duration": 0.128574,
     "end_time": "2022-05-09T15:06:41.533069",
     "exception": false,
     "start_time": "2022-05-09T15:06:41.404495",
     "status": "completed"
    },
    "tags": []
   },
   "outputs": [
    {
     "name": "stdout",
     "output_type": "stream",
     "text": [
      "Training accuracy: 0.9008375149556243\n"
     ]
    }
   ],
   "source": [
    "train_score = pipe.score(X_train[new_vars], y_train)\n",
    "print(\"Training accuracy:\", train_score)"
   ]
  },
  {
   "cell_type": "code",
   "execution_count": 44,
   "id": "7f8c29bf",
   "metadata": {
    "execution": {
     "iopub.execute_input": "2022-05-09T15:06:41.750484Z",
     "iopub.status.busy": "2022-05-09T15:06:41.750204Z",
     "iopub.status.idle": "2022-05-09T15:06:41.767781Z",
     "shell.execute_reply": "2022-05-09T15:06:41.766727Z"
    },
    "papermill": {
     "duration": 0.103791,
     "end_time": "2022-05-09T15:06:41.771448",
     "exception": false,
     "start_time": "2022-05-09T15:06:41.667657",
     "status": "completed"
    },
    "tags": []
   },
   "outputs": [
    {
     "name": "stdout",
     "output_type": "stream",
     "text": [
      "Test accuracy: 0.8980714285714285\n"
     ]
    }
   ],
   "source": [
    "test_score = pipe.score(X_test[new_vars], y_test)\n",
    "print(\"Test accuracy:\", test_score)"
   ]
  },
  {
   "cell_type": "markdown",
   "id": "61a5b100",
   "metadata": {
    "papermill": {
     "duration": 0.082799,
     "end_time": "2022-05-09T15:06:41.995426",
     "exception": false,
     "start_time": "2022-05-09T15:06:41.912627",
     "status": "completed"
    },
    "tags": []
   },
   "source": [
    "### Model Evaluation"
   ]
  },
  {
   "cell_type": "code",
   "execution_count": 45,
   "id": "91d085e6",
   "metadata": {
    "execution": {
     "iopub.execute_input": "2022-05-09T15:06:42.157620Z",
     "iopub.status.busy": "2022-05-09T15:06:42.157370Z",
     "iopub.status.idle": "2022-05-09T15:06:42.205790Z",
     "shell.execute_reply": "2022-05-09T15:06:42.204991Z"
    },
    "papermill": {
     "duration": 0.133266,
     "end_time": "2022-05-09T15:06:42.208648",
     "exception": false,
     "start_time": "2022-05-09T15:06:42.075382",
     "status": "completed"
    },
    "tags": []
   },
   "outputs": [
    {
     "data": {
      "text/plain": [
       "array([[50017,   289],\n",
       "       [ 5264,   429]])"
      ]
     },
     "execution_count": 45,
     "metadata": {},
     "output_type": "execute_result"
    }
   ],
   "source": [
    "confusion_matrix(y_train, pipe.predict(X_train[new_vars]))"
   ]
  },
  {
   "cell_type": "code",
   "execution_count": 46,
   "id": "74f0e3e9",
   "metadata": {
    "execution": {
     "iopub.execute_input": "2022-05-09T15:06:42.421975Z",
     "iopub.status.busy": "2022-05-09T15:06:42.421696Z",
     "iopub.status.idle": "2022-05-09T15:06:42.441124Z",
     "shell.execute_reply": "2022-05-09T15:06:42.440325Z"
    },
    "papermill": {
     "duration": 0.103761,
     "end_time": "2022-05-09T15:06:42.443708",
     "exception": false,
     "start_time": "2022-05-09T15:06:42.339947",
     "status": "completed"
    },
    "tags": []
   },
   "outputs": [
    {
     "data": {
      "text/plain": [
       "array([[12485,    76],\n",
       "       [ 1351,    88]])"
      ]
     },
     "execution_count": 46,
     "metadata": {},
     "output_type": "execute_result"
    }
   ],
   "source": [
    "confusion_matrix(y_test, pipe.predict(X_test[new_vars]))"
   ]
  },
  {
   "cell_type": "markdown",
   "id": "0502fa56",
   "metadata": {
    "papermill": {
     "duration": 0.082834,
     "end_time": "2022-05-09T15:06:42.665431",
     "exception": false,
     "start_time": "2022-05-09T15:06:42.582597",
     "status": "completed"
    },
    "tags": []
   },
   "source": [
    "Since there are class imbalance, high amount of type 2 error exists"
   ]
  },
  {
   "cell_type": "code",
   "execution_count": 47,
   "id": "ec3f5fc6",
   "metadata": {
    "execution": {
     "iopub.execute_input": "2022-05-09T15:06:42.832346Z",
     "iopub.status.busy": "2022-05-09T15:06:42.832081Z",
     "iopub.status.idle": "2022-05-09T15:06:42.855871Z",
     "shell.execute_reply": "2022-05-09T15:06:42.854871Z"
    },
    "papermill": {
     "duration": 0.109111,
     "end_time": "2022-05-09T15:06:42.858986",
     "exception": false,
     "start_time": "2022-05-09T15:06:42.749875",
     "status": "completed"
    },
    "tags": []
   },
   "outputs": [
    {
     "data": {
      "text/plain": [
       "0.5365853658536586"
      ]
     },
     "execution_count": 47,
     "metadata": {},
     "output_type": "execute_result"
    }
   ],
   "source": [
    "precision_score(y_test, pipe.predict(X_test[new_vars]))"
   ]
  },
  {
   "cell_type": "code",
   "execution_count": 48,
   "id": "f4d94fd4",
   "metadata": {
    "execution": {
     "iopub.execute_input": "2022-05-09T15:06:43.078123Z",
     "iopub.status.busy": "2022-05-09T15:06:43.077825Z",
     "iopub.status.idle": "2022-05-09T15:06:43.103756Z",
     "shell.execute_reply": "2022-05-09T15:06:43.102882Z"
    },
    "papermill": {
     "duration": 0.111362,
     "end_time": "2022-05-09T15:06:43.106701",
     "exception": false,
     "start_time": "2022-05-09T15:06:42.995339",
     "status": "completed"
    },
    "tags": []
   },
   "outputs": [
    {
     "data": {
      "text/plain": [
       "0.061153578874218205"
      ]
     },
     "execution_count": 48,
     "metadata": {},
     "output_type": "execute_result"
    }
   ],
   "source": [
    "recall_score(y_test, pipe.predict(X_test[new_vars]))"
   ]
  },
  {
   "cell_type": "markdown",
   "id": "0db650fa",
   "metadata": {},
   "source": [
    "## Conclusion :\n",
    "\n",
    "Logistic regression with PCA was observed to be the best model for predicting churn, based on the accuracy performance measure.\n",
    "\n",
    "Outgoing calls (with local same operator mobile/other operator mobile/fixed lines, STD or Special) play a vital role in understanding the possibility of churn. Therefore, the operator should focus on outgoing calls data and provide some kind of special offers to customers whose outgoing calls are decreasing."
   ]
  },
  {
   "cell_type": "markdown",
   "id": "f29a54ff",
   "metadata": {},
   "source": [
    "### --------------------------------------------------- End of Analysis--------------------------------------------------------"
   ]
  },
  {
   "cell_type": "markdown",
   "id": "923e3bf2",
   "metadata": {
    "papermill": {
     "duration": 0.081163,
     "end_time": "2022-05-09T15:06:43.324238",
     "exception": false,
     "start_time": "2022-05-09T15:06:43.243075",
     "status": "completed"
    },
    "tags": []
   },
   "source": [
    "### Creating submission file (For Kaggle)"
   ]
  },
  {
   "cell_type": "code",
   "execution_count": 49,
   "id": "b582299d",
   "metadata": {
    "execution": {
     "iopub.execute_input": "2022-05-09T15:06:43.492265Z",
     "iopub.status.busy": "2022-05-09T15:06:43.492010Z",
     "iopub.status.idle": "2022-05-09T15:06:43.500199Z",
     "shell.execute_reply": "2022-05-09T15:06:43.499278Z"
    },
    "papermill": {
     "duration": 0.095511,
     "end_time": "2022-05-09T15:06:43.502065",
     "exception": false,
     "start_time": "2022-05-09T15:06:43.406554",
     "status": "completed"
    },
    "tags": []
   },
   "outputs": [
    {
     "data": {
      "text/html": [
       "<div>\n",
       "<style scoped>\n",
       "    .dataframe tbody tr th:only-of-type {\n",
       "        vertical-align: middle;\n",
       "    }\n",
       "\n",
       "    .dataframe tbody tr th {\n",
       "        vertical-align: top;\n",
       "    }\n",
       "\n",
       "    .dataframe thead th {\n",
       "        text-align: right;\n",
       "    }\n",
       "</style>\n",
       "<table border=\"1\" class=\"dataframe\">\n",
       "  <thead>\n",
       "    <tr style=\"text-align: right;\">\n",
       "      <th></th>\n",
       "      <th>id</th>\n",
       "      <th>churn_probability</th>\n",
       "    </tr>\n",
       "  </thead>\n",
       "  <tbody>\n",
       "    <tr>\n",
       "      <th>0</th>\n",
       "      <td>69999</td>\n",
       "      <td>0</td>\n",
       "    </tr>\n",
       "    <tr>\n",
       "      <th>1</th>\n",
       "      <td>70000</td>\n",
       "      <td>0</td>\n",
       "    </tr>\n",
       "    <tr>\n",
       "      <th>2</th>\n",
       "      <td>70001</td>\n",
       "      <td>0</td>\n",
       "    </tr>\n",
       "    <tr>\n",
       "      <th>3</th>\n",
       "      <td>70002</td>\n",
       "      <td>0</td>\n",
       "    </tr>\n",
       "    <tr>\n",
       "      <th>4</th>\n",
       "      <td>70003</td>\n",
       "      <td>0</td>\n",
       "    </tr>\n",
       "  </tbody>\n",
       "</table>\n",
       "</div>"
      ],
      "text/plain": [
       "      id  churn_probability\n",
       "0  69999                  0\n",
       "1  70000                  0\n",
       "2  70001                  0\n",
       "3  70002                  0\n",
       "4  70003                  0"
      ]
     },
     "execution_count": 49,
     "metadata": {},
     "output_type": "execute_result"
    }
   ],
   "source": [
    "sample.head()"
   ]
  },
  {
   "cell_type": "markdown",
   "id": "a558956c",
   "metadata": {
    "papermill": {
     "duration": 0.083983,
     "end_time": "2022-05-09T15:06:43.669149",
     "exception": false,
     "start_time": "2022-05-09T15:06:43.585166",
     "status": "completed"
    },
    "tags": []
   },
   "source": [
    "The submission file should contain churn_probability values that have to be predicted for the unseen data provided (test.csv)"
   ]
  },
  {
   "cell_type": "markdown",
   "id": "acc09f18",
   "metadata": {},
   "source": [
    "#### Moving to test.csv file"
   ]
  },
  {
   "cell_type": "code",
   "execution_count": 50,
   "id": "5706c2dc",
   "metadata": {
    "execution": {
     "iopub.execute_input": "2022-05-09T15:06:43.839589Z",
     "iopub.status.busy": "2022-05-09T15:06:43.838658Z",
     "iopub.status.idle": "2022-05-09T15:06:43.863634Z",
     "shell.execute_reply": "2022-05-09T15:06:43.862731Z"
    },
    "papermill": {
     "duration": 0.113934,
     "end_time": "2022-05-09T15:06:43.865542",
     "exception": false,
     "start_time": "2022-05-09T15:06:43.751608",
     "status": "completed"
    },
    "tags": []
   },
   "outputs": [
    {
     "data": {
      "text/html": [
       "<div>\n",
       "<style scoped>\n",
       "    .dataframe tbody tr th:only-of-type {\n",
       "        vertical-align: middle;\n",
       "    }\n",
       "\n",
       "    .dataframe tbody tr th {\n",
       "        vertical-align: top;\n",
       "    }\n",
       "\n",
       "    .dataframe thead th {\n",
       "        text-align: right;\n",
       "    }\n",
       "</style>\n",
       "<table border=\"1\" class=\"dataframe\">\n",
       "  <thead>\n",
       "    <tr style=\"text-align: right;\">\n",
       "      <th></th>\n",
       "      <th>id</th>\n",
       "      <th>circle_id</th>\n",
       "      <th>loc_og_t2o_mou</th>\n",
       "      <th>std_og_t2o_mou</th>\n",
       "      <th>loc_ic_t2o_mou</th>\n",
       "      <th>last_date_of_month_6</th>\n",
       "      <th>last_date_of_month_7</th>\n",
       "      <th>last_date_of_month_8</th>\n",
       "      <th>arpu_6</th>\n",
       "      <th>arpu_7</th>\n",
       "      <th>...</th>\n",
       "      <th>sachet_3g_6</th>\n",
       "      <th>sachet_3g_7</th>\n",
       "      <th>sachet_3g_8</th>\n",
       "      <th>fb_user_6</th>\n",
       "      <th>fb_user_7</th>\n",
       "      <th>fb_user_8</th>\n",
       "      <th>aon</th>\n",
       "      <th>aug_vbc_3g</th>\n",
       "      <th>jul_vbc_3g</th>\n",
       "      <th>jun_vbc_3g</th>\n",
       "    </tr>\n",
       "  </thead>\n",
       "  <tbody>\n",
       "    <tr>\n",
       "      <th>0</th>\n",
       "      <td>69999</td>\n",
       "      <td>109</td>\n",
       "      <td>0.0</td>\n",
       "      <td>0.0</td>\n",
       "      <td>0.0</td>\n",
       "      <td>6/30/2014</td>\n",
       "      <td>7/31/2014</td>\n",
       "      <td>8/31/2014</td>\n",
       "      <td>91.882</td>\n",
       "      <td>65.330</td>\n",
       "      <td>...</td>\n",
       "      <td>0</td>\n",
       "      <td>0</td>\n",
       "      <td>0</td>\n",
       "      <td>NaN</td>\n",
       "      <td>NaN</td>\n",
       "      <td>NaN</td>\n",
       "      <td>1692</td>\n",
       "      <td>0.00</td>\n",
       "      <td>0.00</td>\n",
       "      <td>0.00</td>\n",
       "    </tr>\n",
       "    <tr>\n",
       "      <th>1</th>\n",
       "      <td>70000</td>\n",
       "      <td>109</td>\n",
       "      <td>0.0</td>\n",
       "      <td>0.0</td>\n",
       "      <td>0.0</td>\n",
       "      <td>6/30/2014</td>\n",
       "      <td>7/31/2014</td>\n",
       "      <td>8/31/2014</td>\n",
       "      <td>414.168</td>\n",
       "      <td>515.568</td>\n",
       "      <td>...</td>\n",
       "      <td>0</td>\n",
       "      <td>0</td>\n",
       "      <td>0</td>\n",
       "      <td>NaN</td>\n",
       "      <td>NaN</td>\n",
       "      <td>NaN</td>\n",
       "      <td>2533</td>\n",
       "      <td>0.00</td>\n",
       "      <td>0.00</td>\n",
       "      <td>0.00</td>\n",
       "    </tr>\n",
       "    <tr>\n",
       "      <th>2</th>\n",
       "      <td>70001</td>\n",
       "      <td>109</td>\n",
       "      <td>0.0</td>\n",
       "      <td>0.0</td>\n",
       "      <td>0.0</td>\n",
       "      <td>6/30/2014</td>\n",
       "      <td>7/31/2014</td>\n",
       "      <td>8/31/2014</td>\n",
       "      <td>329.844</td>\n",
       "      <td>434.884</td>\n",
       "      <td>...</td>\n",
       "      <td>0</td>\n",
       "      <td>0</td>\n",
       "      <td>0</td>\n",
       "      <td>NaN</td>\n",
       "      <td>NaN</td>\n",
       "      <td>NaN</td>\n",
       "      <td>277</td>\n",
       "      <td>525.61</td>\n",
       "      <td>758.41</td>\n",
       "      <td>241.84</td>\n",
       "    </tr>\n",
       "    <tr>\n",
       "      <th>3</th>\n",
       "      <td>70002</td>\n",
       "      <td>109</td>\n",
       "      <td>0.0</td>\n",
       "      <td>0.0</td>\n",
       "      <td>0.0</td>\n",
       "      <td>6/30/2014</td>\n",
       "      <td>7/31/2014</td>\n",
       "      <td>8/31/2014</td>\n",
       "      <td>43.550</td>\n",
       "      <td>171.390</td>\n",
       "      <td>...</td>\n",
       "      <td>0</td>\n",
       "      <td>0</td>\n",
       "      <td>0</td>\n",
       "      <td>NaN</td>\n",
       "      <td>NaN</td>\n",
       "      <td>NaN</td>\n",
       "      <td>1244</td>\n",
       "      <td>0.00</td>\n",
       "      <td>0.00</td>\n",
       "      <td>0.00</td>\n",
       "    </tr>\n",
       "    <tr>\n",
       "      <th>4</th>\n",
       "      <td>70003</td>\n",
       "      <td>109</td>\n",
       "      <td>0.0</td>\n",
       "      <td>0.0</td>\n",
       "      <td>0.0</td>\n",
       "      <td>6/30/2014</td>\n",
       "      <td>7/31/2014</td>\n",
       "      <td>8/31/2014</td>\n",
       "      <td>306.854</td>\n",
       "      <td>406.289</td>\n",
       "      <td>...</td>\n",
       "      <td>0</td>\n",
       "      <td>0</td>\n",
       "      <td>0</td>\n",
       "      <td>NaN</td>\n",
       "      <td>NaN</td>\n",
       "      <td>NaN</td>\n",
       "      <td>462</td>\n",
       "      <td>0.00</td>\n",
       "      <td>0.00</td>\n",
       "      <td>0.00</td>\n",
       "    </tr>\n",
       "  </tbody>\n",
       "</table>\n",
       "<p>5 rows × 171 columns</p>\n",
       "</div>"
      ],
      "text/plain": [
       "      id  circle_id  loc_og_t2o_mou  std_og_t2o_mou  loc_ic_t2o_mou  \\\n",
       "0  69999        109             0.0             0.0             0.0   \n",
       "1  70000        109             0.0             0.0             0.0   \n",
       "2  70001        109             0.0             0.0             0.0   \n",
       "3  70002        109             0.0             0.0             0.0   \n",
       "4  70003        109             0.0             0.0             0.0   \n",
       "\n",
       "  last_date_of_month_6 last_date_of_month_7 last_date_of_month_8   arpu_6  \\\n",
       "0            6/30/2014            7/31/2014            8/31/2014   91.882   \n",
       "1            6/30/2014            7/31/2014            8/31/2014  414.168   \n",
       "2            6/30/2014            7/31/2014            8/31/2014  329.844   \n",
       "3            6/30/2014            7/31/2014            8/31/2014   43.550   \n",
       "4            6/30/2014            7/31/2014            8/31/2014  306.854   \n",
       "\n",
       "    arpu_7  ...  sachet_3g_6  sachet_3g_7  sachet_3g_8  fb_user_6  fb_user_7  \\\n",
       "0   65.330  ...            0            0            0        NaN        NaN   \n",
       "1  515.568  ...            0            0            0        NaN        NaN   \n",
       "2  434.884  ...            0            0            0        NaN        NaN   \n",
       "3  171.390  ...            0            0            0        NaN        NaN   \n",
       "4  406.289  ...            0            0            0        NaN        NaN   \n",
       "\n",
       "   fb_user_8   aon  aug_vbc_3g  jul_vbc_3g  jun_vbc_3g  \n",
       "0        NaN  1692        0.00        0.00        0.00  \n",
       "1        NaN  2533        0.00        0.00        0.00  \n",
       "2        NaN   277      525.61      758.41      241.84  \n",
       "3        NaN  1244        0.00        0.00        0.00  \n",
       "4        NaN   462        0.00        0.00        0.00  \n",
       "\n",
       "[5 rows x 171 columns]"
      ]
     },
     "execution_count": 50,
     "metadata": {},
     "output_type": "execute_result"
    }
   ],
   "source": [
    "unseen.head()"
   ]
  },
  {
   "cell_type": "code",
   "execution_count": 51,
   "id": "e3bda355",
   "metadata": {
    "execution": {
     "iopub.execute_input": "2022-05-09T15:06:44.199609Z",
     "iopub.status.busy": "2022-05-09T15:06:44.198431Z",
     "iopub.status.idle": "2022-05-09T15:06:44.248297Z",
     "shell.execute_reply": "2022-05-09T15:06:44.247232Z"
    },
    "papermill": {
     "duration": 0.135337,
     "end_time": "2022-05-09T15:06:44.250244",
     "exception": false,
     "start_time": "2022-05-09T15:06:44.114907",
     "status": "completed"
    },
    "tags": []
   },
   "outputs": [
    {
     "data": {
      "text/plain": [
       "(30000, 16)"
      ]
     },
     "execution_count": 51,
     "metadata": {},
     "output_type": "execute_result"
    }
   ],
   "source": [
    "submission_data = unseen.set_index('id')[new_vars]\n",
    "submission_data.shape"
   ]
  },
  {
   "cell_type": "markdown",
   "id": "78a3e8dc",
   "metadata": {
    "papermill": {
     "duration": 0.084885,
     "end_time": "2022-05-09T15:06:44.418333",
     "exception": false,
     "start_time": "2022-05-09T15:06:44.333448",
     "status": "completed"
    },
    "tags": []
   },
   "source": [
    "Creating a new column in the unseen dataset called churn_probability and use the model pipeline to predict the probabilities for this data"
   ]
  },
  {
   "cell_type": "code",
   "execution_count": 52,
   "id": "41b29931",
   "metadata": {
    "execution": {
     "iopub.execute_input": "2022-05-09T15:06:44.588614Z",
     "iopub.status.busy": "2022-05-09T15:06:44.587974Z",
     "iopub.status.idle": "2022-05-09T15:06:44.626521Z",
     "shell.execute_reply": "2022-05-09T15:06:44.625475Z"
    },
    "papermill": {
     "duration": 0.125233,
     "end_time": "2022-05-09T15:06:44.629378",
     "exception": false,
     "start_time": "2022-05-09T15:06:44.504145",
     "status": "completed"
    },
    "tags": []
   },
   "outputs": [
    {
     "data": {
      "text/html": [
       "<div>\n",
       "<style scoped>\n",
       "    .dataframe tbody tr th:only-of-type {\n",
       "        vertical-align: middle;\n",
       "    }\n",
       "\n",
       "    .dataframe tbody tr th {\n",
       "        vertical-align: top;\n",
       "    }\n",
       "\n",
       "    .dataframe thead th {\n",
       "        text-align: right;\n",
       "    }\n",
       "</style>\n",
       "<table border=\"1\" class=\"dataframe\">\n",
       "  <thead>\n",
       "    <tr style=\"text-align: right;\">\n",
       "      <th></th>\n",
       "      <th>id</th>\n",
       "      <th>churn_probability</th>\n",
       "    </tr>\n",
       "  </thead>\n",
       "  <tbody>\n",
       "    <tr>\n",
       "      <th>0</th>\n",
       "      <td>69999</td>\n",
       "      <td>0</td>\n",
       "    </tr>\n",
       "    <tr>\n",
       "      <th>1</th>\n",
       "      <td>70000</td>\n",
       "      <td>0</td>\n",
       "    </tr>\n",
       "    <tr>\n",
       "      <th>2</th>\n",
       "      <td>70001</td>\n",
       "      <td>0</td>\n",
       "    </tr>\n",
       "    <tr>\n",
       "      <th>3</th>\n",
       "      <td>70002</td>\n",
       "      <td>0</td>\n",
       "    </tr>\n",
       "    <tr>\n",
       "      <th>4</th>\n",
       "      <td>70003</td>\n",
       "      <td>0</td>\n",
       "    </tr>\n",
       "  </tbody>\n",
       "</table>\n",
       "</div>"
      ],
      "text/plain": [
       "      id  churn_probability\n",
       "0  69999                  0\n",
       "1  70000                  0\n",
       "2  70001                  0\n",
       "3  70002                  0\n",
       "4  70003                  0"
      ]
     },
     "execution_count": 52,
     "metadata": {},
     "output_type": "execute_result"
    }
   ],
   "source": [
    "unseen['churn_probability'] = pipe.predict(submission_data)\n",
    "output = unseen[['id','churn_probability']]\n",
    "output.head()"
   ]
  },
  {
   "cell_type": "code",
   "execution_count": 53,
   "id": "eb23c6a4",
   "metadata": {
    "execution": {
     "iopub.execute_input": "2022-05-09T15:06:45.024645Z",
     "iopub.status.busy": "2022-05-09T15:06:45.024395Z",
     "iopub.status.idle": "2022-05-09T15:06:45.058637Z",
     "shell.execute_reply": "2022-05-09T15:06:45.058021Z"
    },
    "papermill": {
     "duration": 0.120136,
     "end_time": "2022-05-09T15:06:45.060740",
     "exception": false,
     "start_time": "2022-05-09T15:06:44.940604",
     "status": "completed"
    },
    "tags": []
   },
   "outputs": [],
   "source": [
    "output.to_csv('submission_.csv',index=False)"
   ]
  }
 ],
 "metadata": {
  "kernelspec": {
   "display_name": "Python 3 (ipykernel)",
   "language": "python",
   "name": "python3"
  },
  "language_info": {
   "codemirror_mode": {
    "name": "ipython",
    "version": 3
   },
   "file_extension": ".py",
   "mimetype": "text/x-python",
   "name": "python",
   "nbconvert_exporter": "python",
   "pygments_lexer": "ipython3",
   "version": "3.9.7"
  },
  "papermill": {
   "default_parameters": {},
   "duration": 61.844957,
   "end_time": "2022-05-09T15:06:46.303700",
   "environment_variables": {},
   "exception": null,
   "input_path": "__notebook__.ipynb",
   "output_path": "__notebook__.ipynb",
   "parameters": {},
   "start_time": "2022-05-09T15:05:44.458743",
   "version": "2.3.4"
  }
 },
 "nbformat": 4,
 "nbformat_minor": 5
}
